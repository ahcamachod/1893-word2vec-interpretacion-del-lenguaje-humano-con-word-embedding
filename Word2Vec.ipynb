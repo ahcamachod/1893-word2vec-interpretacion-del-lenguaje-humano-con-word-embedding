{
  "nbformat": 4,
  "nbformat_minor": 0,
  "metadata": {
    "colab": {
      "name": "Word2Vec.ipynb",
      "provenance": [],
      "mount_file_id": "1RzekGbQQOV6NUOi-oBtw5bode8DmgoLv",
      "authorship_tag": "ABX9TyOs/nirtAAube5WU2p0ZR1w",
      "include_colab_link": true
    },
    "kernelspec": {
      "name": "python3",
      "display_name": "Python 3"
    },
    "language_info": {
      "name": "python"
    }
  },
  "cells": [
    {
      "cell_type": "markdown",
      "metadata": {
        "id": "view-in-github",
        "colab_type": "text"
      },
      "source": [
        "<a href=\"https://colab.research.google.com/github/ahcamachod/1893-word2vec-interpretacion-del-lenguaje-humano-con-word-embedding/blob/aula-2/Word2Vec.ipynb\" target=\"_parent\"><img src=\"https://colab.research.google.com/assets/colab-badge.svg\" alt=\"Open In Colab\"/></a>"
      ]
    },
    {
      "cell_type": "markdown",
      "source": [
        "# Word2Vec: Interpretación del lenguaje humano con Word Embedding\n",
        "\n",
        "En este notebook desarrollaremos un clasificador de noticias para una start-up de noticias llamada **Alura Latam News**.\n",
        "\n",
        "El modelo Word2Vec utilizado para entrenar nuestro clasificador fue tomado de la siguiente fuente: \n",
        " \n",
        "Aitor Almeida, Aritz Bilbao Jayo. (2018) \"Word2vec models for the Spanish Language.\" Available from: https://github.com/aitoralmeida/spanish_word2vec"
      ],
      "metadata": {
        "id": "e7hqJQuyCDd0"
      }
    },
    {
      "cell_type": "markdown",
      "source": [
        "## 1. Explorando el Dataset "
      ],
      "metadata": {
        "id": "yHDdHhYiDDhn"
      }
    },
    {
      "cell_type": "code",
      "execution_count": 1,
      "metadata": {
        "colab": {
          "base_uri": "https://localhost:8080/",
          "height": 545
        },
        "id": "UUMMYA_kBtPe",
        "outputId": "cabba336-ce51-4793-c6c2-bcd684340ca7"
      },
      "outputs": [
        {
          "output_type": "execute_result",
          "data": {
            "text/plain": [
              "                     fecha                                             titulo  \\\n",
              "64005  2022-03-31 09:58:31  LaLiga se mantiene como la marca española de m...   \n",
              "56332  2022-03-24 15:15:40  Foro de intendentes radicales gestiona ante na...   \n",
              "13883  2022-04-02 05:00:10  La subida de precios lleva al abismo a las emp...   \n",
              "49211  2022-03-24 12:09:10       Comienza la campaña de vacunación antigripal   \n",
              "85176  2022-03-23 15:04:14  Unas 13.000 toneladas de peras esperan para en...   \n",
              "\n",
              "      pais                                           extracto  \\\n",
              "64005   ES  La patronal de clubes consolida su posición co...   \n",
              "56332   AR  El presidente del Comité Nacional de la UCR y ...   \n",
              "13883   ES  El sector de las comidas preparadas sufre el a...   \n",
              "49211   AR  La vacuna antigripal está incluida en el calen...   \n",
              "85176   AR  Lo afirmó el titular de CAFI, Marcelo Loyarte,...   \n",
              "\n",
              "                                                 resumen  \\\n",
              "64005  LaLiga se mantiene como la marca española de m...   \n",
              "56332  El presidente del Comité Nacional de la UCR y ...   \n",
              "13883  Las empresas canarias de catering atraviesan s...   \n",
              "49211  A partir de este viernes la vacuna antigripal ...   \n",
              "85176  Las peras que van a Rusia no pueden redireccio...   \n",
              "\n",
              "                                                  enlace             categoria  \n",
              "64005  https://as.com/futbol/2022/03/31/primera/16487...              economia  \n",
              "56332  http://criterio24.com.ar/index.php/politicas/i...              politica  \n",
              "13883  https://www.eldia.es/economia/2022/04/02/subid...              economia  \n",
              "49211  https://www.inforegion.com.ar/2022/03/24/comie...  ciencia y tecnologia  \n",
              "85176  https://www.rionegro.com.ar/economia/unas-13-0...              economia  "
            ],
            "text/html": [
              "\n",
              "  <div id=\"df-867d4b05-3aba-4ef4-b3a7-143df150e06c\">\n",
              "    <div class=\"colab-df-container\">\n",
              "      <div>\n",
              "<style scoped>\n",
              "    .dataframe tbody tr th:only-of-type {\n",
              "        vertical-align: middle;\n",
              "    }\n",
              "\n",
              "    .dataframe tbody tr th {\n",
              "        vertical-align: top;\n",
              "    }\n",
              "\n",
              "    .dataframe thead th {\n",
              "        text-align: right;\n",
              "    }\n",
              "</style>\n",
              "<table border=\"1\" class=\"dataframe\">\n",
              "  <thead>\n",
              "    <tr style=\"text-align: right;\">\n",
              "      <th></th>\n",
              "      <th>fecha</th>\n",
              "      <th>titulo</th>\n",
              "      <th>pais</th>\n",
              "      <th>extracto</th>\n",
              "      <th>resumen</th>\n",
              "      <th>enlace</th>\n",
              "      <th>categoria</th>\n",
              "    </tr>\n",
              "  </thead>\n",
              "  <tbody>\n",
              "    <tr>\n",
              "      <th>64005</th>\n",
              "      <td>2022-03-31 09:58:31</td>\n",
              "      <td>LaLiga se mantiene como la marca española de m...</td>\n",
              "      <td>ES</td>\n",
              "      <td>La patronal de clubes consolida su posición co...</td>\n",
              "      <td>LaLiga se mantiene como la marca española de m...</td>\n",
              "      <td>https://as.com/futbol/2022/03/31/primera/16487...</td>\n",
              "      <td>economia</td>\n",
              "    </tr>\n",
              "    <tr>\n",
              "      <th>56332</th>\n",
              "      <td>2022-03-24 15:15:40</td>\n",
              "      <td>Foro de intendentes radicales gestiona ante na...</td>\n",
              "      <td>AR</td>\n",
              "      <td>El presidente del Comité Nacional de la UCR y ...</td>\n",
              "      <td>El presidente del Comité Nacional de la UCR y ...</td>\n",
              "      <td>http://criterio24.com.ar/index.php/politicas/i...</td>\n",
              "      <td>politica</td>\n",
              "    </tr>\n",
              "    <tr>\n",
              "      <th>13883</th>\n",
              "      <td>2022-04-02 05:00:10</td>\n",
              "      <td>La subida de precios lleva al abismo a las emp...</td>\n",
              "      <td>ES</td>\n",
              "      <td>El sector de las comidas preparadas sufre el a...</td>\n",
              "      <td>Las empresas canarias de catering atraviesan s...</td>\n",
              "      <td>https://www.eldia.es/economia/2022/04/02/subid...</td>\n",
              "      <td>economia</td>\n",
              "    </tr>\n",
              "    <tr>\n",
              "      <th>49211</th>\n",
              "      <td>2022-03-24 12:09:10</td>\n",
              "      <td>Comienza la campaña de vacunación antigripal</td>\n",
              "      <td>AR</td>\n",
              "      <td>La vacuna antigripal está incluida en el calen...</td>\n",
              "      <td>A partir de este viernes la vacuna antigripal ...</td>\n",
              "      <td>https://www.inforegion.com.ar/2022/03/24/comie...</td>\n",
              "      <td>ciencia y tecnologia</td>\n",
              "    </tr>\n",
              "    <tr>\n",
              "      <th>85176</th>\n",
              "      <td>2022-03-23 15:04:14</td>\n",
              "      <td>Unas 13.000 toneladas de peras esperan para en...</td>\n",
              "      <td>AR</td>\n",
              "      <td>Lo afirmó el titular de CAFI, Marcelo Loyarte,...</td>\n",
              "      <td>Las peras que van a Rusia no pueden redireccio...</td>\n",
              "      <td>https://www.rionegro.com.ar/economia/unas-13-0...</td>\n",
              "      <td>economia</td>\n",
              "    </tr>\n",
              "  </tbody>\n",
              "</table>\n",
              "</div>\n",
              "      <button class=\"colab-df-convert\" onclick=\"convertToInteractive('df-867d4b05-3aba-4ef4-b3a7-143df150e06c')\"\n",
              "              title=\"Convert this dataframe to an interactive table.\"\n",
              "              style=\"display:none;\">\n",
              "        \n",
              "  <svg xmlns=\"http://www.w3.org/2000/svg\" height=\"24px\"viewBox=\"0 0 24 24\"\n",
              "       width=\"24px\">\n",
              "    <path d=\"M0 0h24v24H0V0z\" fill=\"none\"/>\n",
              "    <path d=\"M18.56 5.44l.94 2.06.94-2.06 2.06-.94-2.06-.94-.94-2.06-.94 2.06-2.06.94zm-11 1L8.5 8.5l.94-2.06 2.06-.94-2.06-.94L8.5 2.5l-.94 2.06-2.06.94zm10 10l.94 2.06.94-2.06 2.06-.94-2.06-.94-.94-2.06-.94 2.06-2.06.94z\"/><path d=\"M17.41 7.96l-1.37-1.37c-.4-.4-.92-.59-1.43-.59-.52 0-1.04.2-1.43.59L10.3 9.45l-7.72 7.72c-.78.78-.78 2.05 0 2.83L4 21.41c.39.39.9.59 1.41.59.51 0 1.02-.2 1.41-.59l7.78-7.78 2.81-2.81c.8-.78.8-2.07 0-2.86zM5.41 20L4 18.59l7.72-7.72 1.47 1.35L5.41 20z\"/>\n",
              "  </svg>\n",
              "      </button>\n",
              "      \n",
              "  <style>\n",
              "    .colab-df-container {\n",
              "      display:flex;\n",
              "      flex-wrap:wrap;\n",
              "      gap: 12px;\n",
              "    }\n",
              "\n",
              "    .colab-df-convert {\n",
              "      background-color: #E8F0FE;\n",
              "      border: none;\n",
              "      border-radius: 50%;\n",
              "      cursor: pointer;\n",
              "      display: none;\n",
              "      fill: #1967D2;\n",
              "      height: 32px;\n",
              "      padding: 0 0 0 0;\n",
              "      width: 32px;\n",
              "    }\n",
              "\n",
              "    .colab-df-convert:hover {\n",
              "      background-color: #E2EBFA;\n",
              "      box-shadow: 0px 1px 2px rgba(60, 64, 67, 0.3), 0px 1px 3px 1px rgba(60, 64, 67, 0.15);\n",
              "      fill: #174EA6;\n",
              "    }\n",
              "\n",
              "    [theme=dark] .colab-df-convert {\n",
              "      background-color: #3B4455;\n",
              "      fill: #D2E3FC;\n",
              "    }\n",
              "\n",
              "    [theme=dark] .colab-df-convert:hover {\n",
              "      background-color: #434B5C;\n",
              "      box-shadow: 0px 1px 3px 1px rgba(0, 0, 0, 0.15);\n",
              "      filter: drop-shadow(0px 1px 2px rgba(0, 0, 0, 0.3));\n",
              "      fill: #FFFFFF;\n",
              "    }\n",
              "  </style>\n",
              "\n",
              "      <script>\n",
              "        const buttonEl =\n",
              "          document.querySelector('#df-867d4b05-3aba-4ef4-b3a7-143df150e06c button.colab-df-convert');\n",
              "        buttonEl.style.display =\n",
              "          google.colab.kernel.accessAllowed ? 'block' : 'none';\n",
              "\n",
              "        async function convertToInteractive(key) {\n",
              "          const element = document.querySelector('#df-867d4b05-3aba-4ef4-b3a7-143df150e06c');\n",
              "          const dataTable =\n",
              "            await google.colab.kernel.invokeFunction('convertToInteractive',\n",
              "                                                     [key], {});\n",
              "          if (!dataTable) return;\n",
              "\n",
              "          const docLinkHtml = 'Like what you see? Visit the ' +\n",
              "            '<a target=\"_blank\" href=https://colab.research.google.com/notebooks/data_table.ipynb>data table notebook</a>'\n",
              "            + ' to learn more about interactive tables.';\n",
              "          element.innerHTML = '';\n",
              "          dataTable['output_type'] = 'display_data';\n",
              "          await google.colab.output.renderOutput(dataTable, element);\n",
              "          const docLink = document.createElement('div');\n",
              "          docLink.innerHTML = docLinkHtml;\n",
              "          element.appendChild(docLink);\n",
              "        }\n",
              "      </script>\n",
              "    </div>\n",
              "  </div>\n",
              "  "
            ]
          },
          "metadata": {},
          "execution_count": 1
        }
      ],
      "source": [
        "import pandas as pd\n",
        "\n",
        "entrenamiento = pd.read_csv(\"/content/drive/MyDrive/word2vec/noticias_entrenamiento.csv\")\n",
        "test = pd.read_csv(\"/content/drive/MyDrive/word2vec/noticias_prueba.csv\")\n",
        "entrenamiento.sample(5)"
      ]
    },
    {
      "cell_type": "code",
      "source": [
        "test.sample(5)"
      ],
      "metadata": {
        "colab": {
          "base_uri": "https://localhost:8080/",
          "height": 597
        },
        "id": "EAHSWGgODhB1",
        "outputId": "31672d6d-4b3a-487e-8fc4-d48fed04396e"
      },
      "execution_count": 2,
      "outputs": [
        {
          "output_type": "execute_result",
          "data": {
            "text/plain": [
              "                     fecha                                             titulo  \\\n",
              "15551  2022-03-18 17:02:20  Argentino de Quilmes: detuvieron a los entrena...   \n",
              "6239   2022-04-04 09:34:23  Gerente de EMVS dice del \"mal ciudadano\" que c...   \n",
              "1344   2022-03-17 13:33:19  Coronavirus en Argentina: casos en Salavina, S...   \n",
              "11161  2022-03-20 18:07:11  Leclerc y Sainz firman un doblete para Ferrari...   \n",
              "6110   2022-03-20 18:32:00  Matías Kulfas dijo que algunas subas de precio...   \n",
              "\n",
              "      pais                                           extracto  \\\n",
              "15551   AR  Se trata de Omar y Diego Giménez que eran busc...   \n",
              "6239    ES  El gerente de la EMVS, José Antonio Acosta, ha...   \n",
              "1344    AR  Un repaso por el número de enfermos actuales, ...   \n",
              "11161   AR  Leclerc y Sainz firman un doblete para Ferrari...   \n",
              "6110    AR  Tras el dato de la inflación de febrero que ma...   \n",
              "\n",
              "                                                 resumen  \\\n",
              "15551  En la ciudad de Luján, este viernes detuvieron...   \n",
              "6239   El gerente de la EMVS, José Antonio Acosta, en...   \n",
              "1344   La pandemia de coronavirus lleva más de dos añ...   \n",
              "11161  El piloto monesgasco Charles Leclerc (Ferrari)...   \n",
              "6110   'Algunas subas no tienen justificación, vamos ...   \n",
              "\n",
              "                                                  enlace             categoria  \n",
              "15551  https://www.infoveloz.com/post/argentino-de-qu...              economia  \n",
              "6239   https://www.europapress.es/madrid/noticia-gere...  ciencia y tecnologia  \n",
              "1344   https://www.lanacion.com.ar/sociedad/coronavir...              economia  \n",
              "11161  https://www.lanacion.com.ar/agencias/leclerc-y...              deportes  \n",
              "6110   https://www.lv12.com.ar/kulfas/matias-kulfas-d...  ciencia y tecnologia  "
            ],
            "text/html": [
              "\n",
              "  <div id=\"df-50b48e96-8d12-4051-85da-e7d2540a5ab9\">\n",
              "    <div class=\"colab-df-container\">\n",
              "      <div>\n",
              "<style scoped>\n",
              "    .dataframe tbody tr th:only-of-type {\n",
              "        vertical-align: middle;\n",
              "    }\n",
              "\n",
              "    .dataframe tbody tr th {\n",
              "        vertical-align: top;\n",
              "    }\n",
              "\n",
              "    .dataframe thead th {\n",
              "        text-align: right;\n",
              "    }\n",
              "</style>\n",
              "<table border=\"1\" class=\"dataframe\">\n",
              "  <thead>\n",
              "    <tr style=\"text-align: right;\">\n",
              "      <th></th>\n",
              "      <th>fecha</th>\n",
              "      <th>titulo</th>\n",
              "      <th>pais</th>\n",
              "      <th>extracto</th>\n",
              "      <th>resumen</th>\n",
              "      <th>enlace</th>\n",
              "      <th>categoria</th>\n",
              "    </tr>\n",
              "  </thead>\n",
              "  <tbody>\n",
              "    <tr>\n",
              "      <th>15551</th>\n",
              "      <td>2022-03-18 17:02:20</td>\n",
              "      <td>Argentino de Quilmes: detuvieron a los entrena...</td>\n",
              "      <td>AR</td>\n",
              "      <td>Se trata de Omar y Diego Giménez que eran busc...</td>\n",
              "      <td>En la ciudad de Luján, este viernes detuvieron...</td>\n",
              "      <td>https://www.infoveloz.com/post/argentino-de-qu...</td>\n",
              "      <td>economia</td>\n",
              "    </tr>\n",
              "    <tr>\n",
              "      <th>6239</th>\n",
              "      <td>2022-04-04 09:34:23</td>\n",
              "      <td>Gerente de EMVS dice del \"mal ciudadano\" que c...</td>\n",
              "      <td>ES</td>\n",
              "      <td>El gerente de la EMVS, José Antonio Acosta, ha...</td>\n",
              "      <td>El gerente de la EMVS, José Antonio Acosta, en...</td>\n",
              "      <td>https://www.europapress.es/madrid/noticia-gere...</td>\n",
              "      <td>ciencia y tecnologia</td>\n",
              "    </tr>\n",
              "    <tr>\n",
              "      <th>1344</th>\n",
              "      <td>2022-03-17 13:33:19</td>\n",
              "      <td>Coronavirus en Argentina: casos en Salavina, S...</td>\n",
              "      <td>AR</td>\n",
              "      <td>Un repaso por el número de enfermos actuales, ...</td>\n",
              "      <td>La pandemia de coronavirus lleva más de dos añ...</td>\n",
              "      <td>https://www.lanacion.com.ar/sociedad/coronavir...</td>\n",
              "      <td>economia</td>\n",
              "    </tr>\n",
              "    <tr>\n",
              "      <th>11161</th>\n",
              "      <td>2022-03-20 18:07:11</td>\n",
              "      <td>Leclerc y Sainz firman un doblete para Ferrari...</td>\n",
              "      <td>AR</td>\n",
              "      <td>Leclerc y Sainz firman un doblete para Ferrari...</td>\n",
              "      <td>El piloto monesgasco Charles Leclerc (Ferrari)...</td>\n",
              "      <td>https://www.lanacion.com.ar/agencias/leclerc-y...</td>\n",
              "      <td>deportes</td>\n",
              "    </tr>\n",
              "    <tr>\n",
              "      <th>6110</th>\n",
              "      <td>2022-03-20 18:32:00</td>\n",
              "      <td>Matías Kulfas dijo que algunas subas de precio...</td>\n",
              "      <td>AR</td>\n",
              "      <td>Tras el dato de la inflación de febrero que ma...</td>\n",
              "      <td>'Algunas subas no tienen justificación, vamos ...</td>\n",
              "      <td>https://www.lv12.com.ar/kulfas/matias-kulfas-d...</td>\n",
              "      <td>ciencia y tecnologia</td>\n",
              "    </tr>\n",
              "  </tbody>\n",
              "</table>\n",
              "</div>\n",
              "      <button class=\"colab-df-convert\" onclick=\"convertToInteractive('df-50b48e96-8d12-4051-85da-e7d2540a5ab9')\"\n",
              "              title=\"Convert this dataframe to an interactive table.\"\n",
              "              style=\"display:none;\">\n",
              "        \n",
              "  <svg xmlns=\"http://www.w3.org/2000/svg\" height=\"24px\"viewBox=\"0 0 24 24\"\n",
              "       width=\"24px\">\n",
              "    <path d=\"M0 0h24v24H0V0z\" fill=\"none\"/>\n",
              "    <path d=\"M18.56 5.44l.94 2.06.94-2.06 2.06-.94-2.06-.94-.94-2.06-.94 2.06-2.06.94zm-11 1L8.5 8.5l.94-2.06 2.06-.94-2.06-.94L8.5 2.5l-.94 2.06-2.06.94zm10 10l.94 2.06.94-2.06 2.06-.94-2.06-.94-.94-2.06-.94 2.06-2.06.94z\"/><path d=\"M17.41 7.96l-1.37-1.37c-.4-.4-.92-.59-1.43-.59-.52 0-1.04.2-1.43.59L10.3 9.45l-7.72 7.72c-.78.78-.78 2.05 0 2.83L4 21.41c.39.39.9.59 1.41.59.51 0 1.02-.2 1.41-.59l7.78-7.78 2.81-2.81c.8-.78.8-2.07 0-2.86zM5.41 20L4 18.59l7.72-7.72 1.47 1.35L5.41 20z\"/>\n",
              "  </svg>\n",
              "      </button>\n",
              "      \n",
              "  <style>\n",
              "    .colab-df-container {\n",
              "      display:flex;\n",
              "      flex-wrap:wrap;\n",
              "      gap: 12px;\n",
              "    }\n",
              "\n",
              "    .colab-df-convert {\n",
              "      background-color: #E8F0FE;\n",
              "      border: none;\n",
              "      border-radius: 50%;\n",
              "      cursor: pointer;\n",
              "      display: none;\n",
              "      fill: #1967D2;\n",
              "      height: 32px;\n",
              "      padding: 0 0 0 0;\n",
              "      width: 32px;\n",
              "    }\n",
              "\n",
              "    .colab-df-convert:hover {\n",
              "      background-color: #E2EBFA;\n",
              "      box-shadow: 0px 1px 2px rgba(60, 64, 67, 0.3), 0px 1px 3px 1px rgba(60, 64, 67, 0.15);\n",
              "      fill: #174EA6;\n",
              "    }\n",
              "\n",
              "    [theme=dark] .colab-df-convert {\n",
              "      background-color: #3B4455;\n",
              "      fill: #D2E3FC;\n",
              "    }\n",
              "\n",
              "    [theme=dark] .colab-df-convert:hover {\n",
              "      background-color: #434B5C;\n",
              "      box-shadow: 0px 1px 3px 1px rgba(0, 0, 0, 0.15);\n",
              "      filter: drop-shadow(0px 1px 2px rgba(0, 0, 0, 0.3));\n",
              "      fill: #FFFFFF;\n",
              "    }\n",
              "  </style>\n",
              "\n",
              "      <script>\n",
              "        const buttonEl =\n",
              "          document.querySelector('#df-50b48e96-8d12-4051-85da-e7d2540a5ab9 button.colab-df-convert');\n",
              "        buttonEl.style.display =\n",
              "          google.colab.kernel.accessAllowed ? 'block' : 'none';\n",
              "\n",
              "        async function convertToInteractive(key) {\n",
              "          const element = document.querySelector('#df-50b48e96-8d12-4051-85da-e7d2540a5ab9');\n",
              "          const dataTable =\n",
              "            await google.colab.kernel.invokeFunction('convertToInteractive',\n",
              "                                                     [key], {});\n",
              "          if (!dataTable) return;\n",
              "\n",
              "          const docLinkHtml = 'Like what you see? Visit the ' +\n",
              "            '<a target=\"_blank\" href=https://colab.research.google.com/notebooks/data_table.ipynb>data table notebook</a>'\n",
              "            + ' to learn more about interactive tables.';\n",
              "          element.innerHTML = '';\n",
              "          dataTable['output_type'] = 'display_data';\n",
              "          await google.colab.output.renderOutput(dataTable, element);\n",
              "          const docLink = document.createElement('div');\n",
              "          docLink.innerHTML = docLinkHtml;\n",
              "          element.appendChild(docLink);\n",
              "        }\n",
              "      </script>\n",
              "    </div>\n",
              "  </div>\n",
              "  "
            ]
          },
          "metadata": {},
          "execution_count": 2
        }
      ]
    },
    {
      "cell_type": "code",
      "source": [
        "entrenamiento.shape"
      ],
      "metadata": {
        "colab": {
          "base_uri": "https://localhost:8080/"
        },
        "id": "CMhvGE-QDhEZ",
        "outputId": "01bb04f0-05d5-4feb-edd3-a74ba543de0b"
      },
      "execution_count": 3,
      "outputs": [
        {
          "output_type": "execute_result",
          "data": {
            "text/plain": [
              "(91844, 7)"
            ]
          },
          "metadata": {},
          "execution_count": 3
        }
      ]
    },
    {
      "cell_type": "code",
      "source": [
        "test.shape"
      ],
      "metadata": {
        "colab": {
          "base_uri": "https://localhost:8080/"
        },
        "id": "Qo7_MT9iLLHf",
        "outputId": "0c969874-65f6-45cf-fb54-4362d04fb6e9"
      },
      "execution_count": 4,
      "outputs": [
        {
          "output_type": "execute_result",
          "data": {
            "text/plain": [
              "(22961, 7)"
            ]
          },
          "metadata": {},
          "execution_count": 4
        }
      ]
    },
    {
      "cell_type": "code",
      "source": [
        "from sklearn.feature_extraction.text import CountVectorizer\n",
        "\n",
        "vector = CountVectorizer()"
      ],
      "metadata": {
        "id": "Z1XdBpIrLLLy"
      },
      "execution_count": 5,
      "outputs": []
    },
    {
      "cell_type": "code",
      "source": [
        "texto = [\n",
        "         \"tenga un buen día\",\n",
        "         \"tenga un excelente día\",\n",
        "         \"tenga un pésimo día luna sol carro casa familia\"\n",
        "]"
      ],
      "metadata": {
        "id": "oUAuLPrJLLRm"
      },
      "execution_count": 6,
      "outputs": []
    },
    {
      "cell_type": "code",
      "source": [
        "vector.fit(texto)"
      ],
      "metadata": {
        "colab": {
          "base_uri": "https://localhost:8080/"
        },
        "id": "A2Q1zXedLLUq",
        "outputId": "74375978-df02-431b-850e-2061220f2e74"
      },
      "execution_count": 7,
      "outputs": [
        {
          "output_type": "execute_result",
          "data": {
            "text/plain": [
              "CountVectorizer()"
            ]
          },
          "metadata": {},
          "execution_count": 7
        }
      ]
    },
    {
      "cell_type": "code",
      "source": [
        "vector.vocabulary_"
      ],
      "metadata": {
        "colab": {
          "base_uri": "https://localhost:8080/"
        },
        "id": "VydvXpIPVVxF",
        "outputId": "a045c48b-05b9-4bef-dc12-9a7f29715c86"
      },
      "execution_count": 8,
      "outputs": [
        {
          "output_type": "execute_result",
          "data": {
            "text/plain": [
              "{'buen': 0,\n",
              " 'carro': 1,\n",
              " 'casa': 2,\n",
              " 'día': 3,\n",
              " 'excelente': 4,\n",
              " 'familia': 5,\n",
              " 'luna': 6,\n",
              " 'pésimo': 7,\n",
              " 'sol': 8,\n",
              " 'tenga': 9,\n",
              " 'un': 10}"
            ]
          },
          "metadata": {},
          "execution_count": 8
        }
      ]
    },
    {
      "cell_type": "code",
      "source": [
        "vector_bueno = vector.transform(['buen'])"
      ],
      "metadata": {
        "id": "moY2ePtdVVza"
      },
      "execution_count": 9,
      "outputs": []
    },
    {
      "cell_type": "code",
      "source": [
        "vector_luna = vector.transform(['luna'])"
      ],
      "metadata": {
        "id": "_KY1-J1AWpd1"
      },
      "execution_count": 10,
      "outputs": []
    },
    {
      "cell_type": "code",
      "source": [
        "print(vector_bueno)"
      ],
      "metadata": {
        "colab": {
          "base_uri": "https://localhost:8080/"
        },
        "id": "NMlU5xZuVV1s",
        "outputId": "27ea6eed-b764-48b9-dc60-8c19315269da"
      },
      "execution_count": 11,
      "outputs": [
        {
          "output_type": "stream",
          "name": "stdout",
          "text": [
            "  (0, 0)\t1\n"
          ]
        }
      ]
    },
    {
      "cell_type": "code",
      "source": [
        "vector_bueno"
      ],
      "metadata": {
        "colab": {
          "base_uri": "https://localhost:8080/"
        },
        "id": "UqyBLfRvVvHU",
        "outputId": "d83eabf6-6980-4a62-adbe-2b5fe81ba08c"
      },
      "execution_count": 12,
      "outputs": [
        {
          "output_type": "execute_result",
          "data": {
            "text/plain": [
              "<1x11 sparse matrix of type '<class 'numpy.int64'>'\n",
              "\twith 1 stored elements in Compressed Sparse Row format>"
            ]
          },
          "metadata": {},
          "execution_count": 12
        }
      ]
    },
    {
      "cell_type": "code",
      "source": [
        "print(vector_bueno.toarray())"
      ],
      "metadata": {
        "colab": {
          "base_uri": "https://localhost:8080/"
        },
        "id": "WjPspUzjVvMa",
        "outputId": "eeb214f8-0ecf-4336-f035-2df4a67a333c"
      },
      "execution_count": 13,
      "outputs": [
        {
          "output_type": "stream",
          "name": "stdout",
          "text": [
            "[[1 0 0 0 0 0 0 0 0 0 0]]\n"
          ]
        }
      ]
    },
    {
      "cell_type": "code",
      "source": [
        "print(vector_luna.toarray())"
      ],
      "metadata": {
        "colab": {
          "base_uri": "https://localhost:8080/"
        },
        "id": "l19iiqX2WJZh",
        "outputId": "d373b2f5-a180-4c83-d1c2-a9f7a6833ba8"
      },
      "execution_count": 14,
      "outputs": [
        {
          "output_type": "stream",
          "name": "stdout",
          "text": [
            "[[0 0 0 0 0 0 1 0 0 0 0]]\n"
          ]
        }
      ]
    },
    {
      "cell_type": "markdown",
      "source": [
        "## 2. Cargando un modelo Word2Vec"
      ],
      "metadata": {
        "id": "fDf1Yk2jDfzd"
      }
    },
    {
      "cell_type": "code",
      "source": [
        ""
      ],
      "metadata": {
        "id": "2klMKWS4mt05"
      },
      "execution_count": null,
      "outputs": []
    },
    {
      "cell_type": "code",
      "source": [
        ""
      ],
      "metadata": {
        "id": "2rQPw_Eumt3S"
      },
      "execution_count": null,
      "outputs": []
    },
    {
      "cell_type": "code",
      "source": [
        ""
      ],
      "metadata": {
        "id": "vssQvW1Tmt5D"
      },
      "execution_count": null,
      "outputs": []
    },
    {
      "cell_type": "markdown",
      "source": [
        "## 3. Entendiendo Word2Vec"
      ],
      "metadata": {
        "id": "5JYhf0V2DzKB"
      }
    },
    {
      "cell_type": "code",
      "source": [
        ""
      ],
      "metadata": {
        "id": "7e8TcOHImvlp"
      },
      "execution_count": null,
      "outputs": []
    },
    {
      "cell_type": "code",
      "source": [
        ""
      ],
      "metadata": {
        "id": "LvpAi0_xmvoF"
      },
      "execution_count": null,
      "outputs": []
    },
    {
      "cell_type": "code",
      "source": [
        ""
      ],
      "metadata": {
        "id": "y4VKcsZymvrz"
      },
      "execution_count": null,
      "outputs": []
    },
    {
      "cell_type": "markdown",
      "source": [
        "## 4. Combinando Vectores"
      ],
      "metadata": {
        "id": "QmzHCHuJEQmd"
      }
    },
    {
      "cell_type": "code",
      "source": [
        ""
      ],
      "metadata": {
        "id": "v-QUEnVumxSR"
      },
      "execution_count": null,
      "outputs": []
    },
    {
      "cell_type": "code",
      "source": [
        ""
      ],
      "metadata": {
        "id": "Kg6vJRFOmxU5"
      },
      "execution_count": null,
      "outputs": []
    },
    {
      "cell_type": "code",
      "source": [
        ""
      ],
      "metadata": {
        "id": "Qqg-AapbmxX_"
      },
      "execution_count": null,
      "outputs": []
    },
    {
      "cell_type": "markdown",
      "source": [
        "## 5. Clasificando textos"
      ],
      "metadata": {
        "id": "58RKUvJtEaO8"
      }
    },
    {
      "cell_type": "code",
      "source": [
        ""
      ],
      "metadata": {
        "id": "U_71U2xomzlh"
      },
      "execution_count": null,
      "outputs": []
    },
    {
      "cell_type": "code",
      "source": [
        ""
      ],
      "metadata": {
        "id": "3xpq11_AmzoO"
      },
      "execution_count": null,
      "outputs": []
    },
    {
      "cell_type": "code",
      "source": [
        ""
      ],
      "metadata": {
        "id": "MpqqDeQqmzsV"
      },
      "execution_count": null,
      "outputs": []
    }
  ]
}