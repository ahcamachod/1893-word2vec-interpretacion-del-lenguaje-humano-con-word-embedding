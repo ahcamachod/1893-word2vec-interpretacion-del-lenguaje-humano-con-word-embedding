{
  "nbformat": 4,
  "nbformat_minor": 0,
  "metadata": {
    "colab": {
      "name": "Word2Vec.ipynb",
      "provenance": [],
      "mount_file_id": "1RzekGbQQOV6NUOi-oBtw5bode8DmgoLv",
      "authorship_tag": "ABX9TyO6Ygm1bydQpQRozoILkBEM",
      "include_colab_link": true
    },
    "kernelspec": {
      "name": "python3",
      "display_name": "Python 3"
    },
    "language_info": {
      "name": "python"
    }
  },
  "cells": [
    {
      "cell_type": "markdown",
      "metadata": {
        "id": "view-in-github",
        "colab_type": "text"
      },
      "source": [
        "<a href=\"https://colab.research.google.com/github/ahcamachod/1893-word2vec-interpretacion-del-lenguaje-humano-con-word-embedding/blob/aula-4/Word2Vec.ipynb\" target=\"_parent\"><img src=\"https://colab.research.google.com/assets/colab-badge.svg\" alt=\"Open In Colab\"/></a>"
      ]
    },
    {
      "cell_type": "markdown",
      "source": [
        "# Word2Vec: Interpretación del lenguaje humano con Word Embedding\n",
        "\n",
        "En este notebook desarrollaremos un clasificador de noticias para una start-up de noticias llamada **Alura Latam News**.\n",
        "\n",
        "El modelo Word2Vec utilizado para entrenar nuestro clasificador fue tomado de la siguiente fuente: \n",
        " \n",
        "Aitor Almeida, Aritz Bilbao Jayo. (2018) \"Word2vec models for the Spanish Language.\" Available from: https://github.com/aitoralmeida/spanish_word2vec"
      ],
      "metadata": {
        "id": "e7hqJQuyCDd0"
      }
    },
    {
      "cell_type": "markdown",
      "source": [
        "## 1. Explorando el Dataset "
      ],
      "metadata": {
        "id": "yHDdHhYiDDhn"
      }
    },
    {
      "cell_type": "code",
      "execution_count": 1,
      "metadata": {
        "colab": {
          "base_uri": "https://localhost:8080/",
          "height": 597
        },
        "id": "UUMMYA_kBtPe",
        "outputId": "dae2fc78-16d5-4f4e-a4fb-c1e992e1c1e1"
      },
      "outputs": [
        {
          "output_type": "execute_result",
          "data": {
            "text/plain": [
              "                     fecha                                             titulo  \\\n",
              "86741  2022-03-18 11:15:00  Occidente pone en riesgo su seguridad al armar...   \n",
              "65498  2022-03-20 17:41:00  Rodríguez destacó el potencial de la producció...   \n",
              "55145  2022-03-31 14:58:11  \"El Gobierno puede garantizar que no va a falt...   \n",
              "27460  2022-04-04 22:30:00  El rosado, la tendencia 2022 que Eiza González...   \n",
              "13367  2022-03-29 11:02:40  Lorenzo Milá presenta la nueva etapa de 'En po...   \n",
              "\n",
              "      pais                                           extracto  \\\n",
              "86741   PR  El embajador ruso ante la ONU, Vasili Nebenzia...   \n",
              "65498   AR  El ministro de Desarrollo Agrario bonaerense, ...   \n",
              "55145   AR  La portavoz presidencial indicó que este 2022,...   \n",
              "27460   AR  Si te tienes que comprar una prenda, entonces ...   \n",
              "13367   ES  El veterano espacio se emitirá los miércoles e...   \n",
              "\n",
              "                                                 resumen  \\\n",
              "86741  El embajador ruso ante la ONU, Vasili Nebenzia...   \n",
              "65498  El ministro de Desarrollo Agrario bonaerense, ...   \n",
              "55145  La portavoz de la Presidencia, Gabriela Cerrut...   \n",
              "27460  Eiza González está siempre al salto de las ten...   \n",
              "13367  'En portada' inicia una nueva etapa con varios...   \n",
              "\n",
              "                                                  enlace             categoria  \n",
              "86741  https://www.noticel.com/mundo/top-stories/2022...                 mundo  \n",
              "65498  https://www.eldestapeweb.com/economia/buenos-a...              economia  \n",
              "55145  https://www.baenegocios.com/negocios/El-Gobier...              economia  \n",
              "27460  https://www.mdzol.com/mdz-femme/moda/2022/4/4/...  ciencia y tecnologia  \n",
              "13367  https://www.elperiodico.com/es/yotele/20220329...       entretenimiento  "
            ],
            "text/html": [
              "\n",
              "  <div id=\"df-864b04d2-d3ed-4fac-8a28-c3f12dc5655b\">\n",
              "    <div class=\"colab-df-container\">\n",
              "      <div>\n",
              "<style scoped>\n",
              "    .dataframe tbody tr th:only-of-type {\n",
              "        vertical-align: middle;\n",
              "    }\n",
              "\n",
              "    .dataframe tbody tr th {\n",
              "        vertical-align: top;\n",
              "    }\n",
              "\n",
              "    .dataframe thead th {\n",
              "        text-align: right;\n",
              "    }\n",
              "</style>\n",
              "<table border=\"1\" class=\"dataframe\">\n",
              "  <thead>\n",
              "    <tr style=\"text-align: right;\">\n",
              "      <th></th>\n",
              "      <th>fecha</th>\n",
              "      <th>titulo</th>\n",
              "      <th>pais</th>\n",
              "      <th>extracto</th>\n",
              "      <th>resumen</th>\n",
              "      <th>enlace</th>\n",
              "      <th>categoria</th>\n",
              "    </tr>\n",
              "  </thead>\n",
              "  <tbody>\n",
              "    <tr>\n",
              "      <th>86741</th>\n",
              "      <td>2022-03-18 11:15:00</td>\n",
              "      <td>Occidente pone en riesgo su seguridad al armar...</td>\n",
              "      <td>PR</td>\n",
              "      <td>El embajador ruso ante la ONU, Vasili Nebenzia...</td>\n",
              "      <td>El embajador ruso ante la ONU, Vasili Nebenzia...</td>\n",
              "      <td>https://www.noticel.com/mundo/top-stories/2022...</td>\n",
              "      <td>mundo</td>\n",
              "    </tr>\n",
              "    <tr>\n",
              "      <th>65498</th>\n",
              "      <td>2022-03-20 17:41:00</td>\n",
              "      <td>Rodríguez destacó el potencial de la producció...</td>\n",
              "      <td>AR</td>\n",
              "      <td>El ministro de Desarrollo Agrario bonaerense, ...</td>\n",
              "      <td>El ministro de Desarrollo Agrario bonaerense, ...</td>\n",
              "      <td>https://www.eldestapeweb.com/economia/buenos-a...</td>\n",
              "      <td>economia</td>\n",
              "    </tr>\n",
              "    <tr>\n",
              "      <th>55145</th>\n",
              "      <td>2022-03-31 14:58:11</td>\n",
              "      <td>\"El Gobierno puede garantizar que no va a falt...</td>\n",
              "      <td>AR</td>\n",
              "      <td>La portavoz presidencial indicó que este 2022,...</td>\n",
              "      <td>La portavoz de la Presidencia, Gabriela Cerrut...</td>\n",
              "      <td>https://www.baenegocios.com/negocios/El-Gobier...</td>\n",
              "      <td>economia</td>\n",
              "    </tr>\n",
              "    <tr>\n",
              "      <th>27460</th>\n",
              "      <td>2022-04-04 22:30:00</td>\n",
              "      <td>El rosado, la tendencia 2022 que Eiza González...</td>\n",
              "      <td>AR</td>\n",
              "      <td>Si te tienes que comprar una prenda, entonces ...</td>\n",
              "      <td>Eiza González está siempre al salto de las ten...</td>\n",
              "      <td>https://www.mdzol.com/mdz-femme/moda/2022/4/4/...</td>\n",
              "      <td>ciencia y tecnologia</td>\n",
              "    </tr>\n",
              "    <tr>\n",
              "      <th>13367</th>\n",
              "      <td>2022-03-29 11:02:40</td>\n",
              "      <td>Lorenzo Milá presenta la nueva etapa de 'En po...</td>\n",
              "      <td>ES</td>\n",
              "      <td>El veterano espacio se emitirá los miércoles e...</td>\n",
              "      <td>'En portada' inicia una nueva etapa con varios...</td>\n",
              "      <td>https://www.elperiodico.com/es/yotele/20220329...</td>\n",
              "      <td>entretenimiento</td>\n",
              "    </tr>\n",
              "  </tbody>\n",
              "</table>\n",
              "</div>\n",
              "      <button class=\"colab-df-convert\" onclick=\"convertToInteractive('df-864b04d2-d3ed-4fac-8a28-c3f12dc5655b')\"\n",
              "              title=\"Convert this dataframe to an interactive table.\"\n",
              "              style=\"display:none;\">\n",
              "        \n",
              "  <svg xmlns=\"http://www.w3.org/2000/svg\" height=\"24px\"viewBox=\"0 0 24 24\"\n",
              "       width=\"24px\">\n",
              "    <path d=\"M0 0h24v24H0V0z\" fill=\"none\"/>\n",
              "    <path d=\"M18.56 5.44l.94 2.06.94-2.06 2.06-.94-2.06-.94-.94-2.06-.94 2.06-2.06.94zm-11 1L8.5 8.5l.94-2.06 2.06-.94-2.06-.94L8.5 2.5l-.94 2.06-2.06.94zm10 10l.94 2.06.94-2.06 2.06-.94-2.06-.94-.94-2.06-.94 2.06-2.06.94z\"/><path d=\"M17.41 7.96l-1.37-1.37c-.4-.4-.92-.59-1.43-.59-.52 0-1.04.2-1.43.59L10.3 9.45l-7.72 7.72c-.78.78-.78 2.05 0 2.83L4 21.41c.39.39.9.59 1.41.59.51 0 1.02-.2 1.41-.59l7.78-7.78 2.81-2.81c.8-.78.8-2.07 0-2.86zM5.41 20L4 18.59l7.72-7.72 1.47 1.35L5.41 20z\"/>\n",
              "  </svg>\n",
              "      </button>\n",
              "      \n",
              "  <style>\n",
              "    .colab-df-container {\n",
              "      display:flex;\n",
              "      flex-wrap:wrap;\n",
              "      gap: 12px;\n",
              "    }\n",
              "\n",
              "    .colab-df-convert {\n",
              "      background-color: #E8F0FE;\n",
              "      border: none;\n",
              "      border-radius: 50%;\n",
              "      cursor: pointer;\n",
              "      display: none;\n",
              "      fill: #1967D2;\n",
              "      height: 32px;\n",
              "      padding: 0 0 0 0;\n",
              "      width: 32px;\n",
              "    }\n",
              "\n",
              "    .colab-df-convert:hover {\n",
              "      background-color: #E2EBFA;\n",
              "      box-shadow: 0px 1px 2px rgba(60, 64, 67, 0.3), 0px 1px 3px 1px rgba(60, 64, 67, 0.15);\n",
              "      fill: #174EA6;\n",
              "    }\n",
              "\n",
              "    [theme=dark] .colab-df-convert {\n",
              "      background-color: #3B4455;\n",
              "      fill: #D2E3FC;\n",
              "    }\n",
              "\n",
              "    [theme=dark] .colab-df-convert:hover {\n",
              "      background-color: #434B5C;\n",
              "      box-shadow: 0px 1px 3px 1px rgba(0, 0, 0, 0.15);\n",
              "      filter: drop-shadow(0px 1px 2px rgba(0, 0, 0, 0.3));\n",
              "      fill: #FFFFFF;\n",
              "    }\n",
              "  </style>\n",
              "\n",
              "      <script>\n",
              "        const buttonEl =\n",
              "          document.querySelector('#df-864b04d2-d3ed-4fac-8a28-c3f12dc5655b button.colab-df-convert');\n",
              "        buttonEl.style.display =\n",
              "          google.colab.kernel.accessAllowed ? 'block' : 'none';\n",
              "\n",
              "        async function convertToInteractive(key) {\n",
              "          const element = document.querySelector('#df-864b04d2-d3ed-4fac-8a28-c3f12dc5655b');\n",
              "          const dataTable =\n",
              "            await google.colab.kernel.invokeFunction('convertToInteractive',\n",
              "                                                     [key], {});\n",
              "          if (!dataTable) return;\n",
              "\n",
              "          const docLinkHtml = 'Like what you see? Visit the ' +\n",
              "            '<a target=\"_blank\" href=https://colab.research.google.com/notebooks/data_table.ipynb>data table notebook</a>'\n",
              "            + ' to learn more about interactive tables.';\n",
              "          element.innerHTML = '';\n",
              "          dataTable['output_type'] = 'display_data';\n",
              "          await google.colab.output.renderOutput(dataTable, element);\n",
              "          const docLink = document.createElement('div');\n",
              "          docLink.innerHTML = docLinkHtml;\n",
              "          element.appendChild(docLink);\n",
              "        }\n",
              "      </script>\n",
              "    </div>\n",
              "  </div>\n",
              "  "
            ]
          },
          "metadata": {},
          "execution_count": 1
        }
      ],
      "source": [
        "import pandas as pd\n",
        "\n",
        "entrenamiento = pd.read_csv(\"/content/drive/MyDrive/word2vec/noticias_entrenamiento.csv\")\n",
        "test = pd.read_csv(\"/content/drive/MyDrive/word2vec/noticias_prueba.csv\")\n",
        "entrenamiento.sample(5)"
      ]
    },
    {
      "cell_type": "code",
      "source": [
        "test.sample(5)"
      ],
      "metadata": {
        "colab": {
          "base_uri": "https://localhost:8080/",
          "height": 632
        },
        "id": "EAHSWGgODhB1",
        "outputId": "74e5d70c-d5e6-4f94-b9ee-e701371f8ab7"
      },
      "execution_count": 2,
      "outputs": [
        {
          "output_type": "execute_result",
          "data": {
            "text/plain": [
              "                     fecha                                             titulo  \\\n",
              "21495  2022-03-18 23:24:12  ¿Cómo será la inauguración del AIFA? Sedena ex...   \n",
              "8806   2022-03-31 21:59:17  Aida Victoria critica a Marbelle por comentari...   \n",
              "4784   2022-04-05 00:35:04    Video: Olivia Rodrigo tira su Grammy y lo rompe   \n",
              "667    2022-04-03 23:14:07           Lista de ganadores de los premios Grammy   \n",
              "4386   2022-04-03 14:00:29  Ciencia en Panamá: Ciencia a bordo de mini sub...   \n",
              "\n",
              "      pais                                           extracto  \\\n",
              "21495   GT  El titular de la Sedena, Luis Cresencio Sandov...   \n",
              "8806    CO  El trino 'racista' de Marbelle a Francia Márqu...   \n",
              "4784    US  La cantante Olivia Rodrigo ganó tres gramófono...   \n",
              "667     US  Lista parcial de ganadores de los premios Gram...   \n",
              "4386    PA  Los vehículos sumergibles han permitido a los ...   \n",
              "\n",
              "                                                 resumen  \\\n",
              "21495  Este 21 de marzo será la inauguración del Aero...   \n",
              "8806   El martes 29 de marzo, la cantante Maureen Bel...   \n",
              "4784   La cantante Olivia Rodrigo ganó tres gramófono...   \n",
              "667    Lista parcial de ganadores de los premios Gram...   \n",
              "4386   Por Helkin Guevara (Corresponsal digital)\\n\\n\\...   \n",
              "\n",
              "                                                  enlace        categoria  \n",
              "21495  https://www.tvazteca.com/aztecanoticias/notas/...         politica  \n",
              "8806   https://www.rcnradio.com/entretenimiento/aida-...  entretenimiento  \n",
              "4784   https://www.dallasnews.com/espanol/al-dia/espe...  entretenimiento  \n",
              "667    https://www.milfordmirror.com/entertainment/ar...  entretenimiento  \n",
              "4386   https://www.tvn-2.com/contenido_exclusivo/Cien...  entretenimiento  "
            ],
            "text/html": [
              "\n",
              "  <div id=\"df-6547020b-0981-4a3b-8ed7-562bb457c2c3\">\n",
              "    <div class=\"colab-df-container\">\n",
              "      <div>\n",
              "<style scoped>\n",
              "    .dataframe tbody tr th:only-of-type {\n",
              "        vertical-align: middle;\n",
              "    }\n",
              "\n",
              "    .dataframe tbody tr th {\n",
              "        vertical-align: top;\n",
              "    }\n",
              "\n",
              "    .dataframe thead th {\n",
              "        text-align: right;\n",
              "    }\n",
              "</style>\n",
              "<table border=\"1\" class=\"dataframe\">\n",
              "  <thead>\n",
              "    <tr style=\"text-align: right;\">\n",
              "      <th></th>\n",
              "      <th>fecha</th>\n",
              "      <th>titulo</th>\n",
              "      <th>pais</th>\n",
              "      <th>extracto</th>\n",
              "      <th>resumen</th>\n",
              "      <th>enlace</th>\n",
              "      <th>categoria</th>\n",
              "    </tr>\n",
              "  </thead>\n",
              "  <tbody>\n",
              "    <tr>\n",
              "      <th>21495</th>\n",
              "      <td>2022-03-18 23:24:12</td>\n",
              "      <td>¿Cómo será la inauguración del AIFA? Sedena ex...</td>\n",
              "      <td>GT</td>\n",
              "      <td>El titular de la Sedena, Luis Cresencio Sandov...</td>\n",
              "      <td>Este 21 de marzo será la inauguración del Aero...</td>\n",
              "      <td>https://www.tvazteca.com/aztecanoticias/notas/...</td>\n",
              "      <td>politica</td>\n",
              "    </tr>\n",
              "    <tr>\n",
              "      <th>8806</th>\n",
              "      <td>2022-03-31 21:59:17</td>\n",
              "      <td>Aida Victoria critica a Marbelle por comentari...</td>\n",
              "      <td>CO</td>\n",
              "      <td>El trino 'racista' de Marbelle a Francia Márqu...</td>\n",
              "      <td>El martes 29 de marzo, la cantante Maureen Bel...</td>\n",
              "      <td>https://www.rcnradio.com/entretenimiento/aida-...</td>\n",
              "      <td>entretenimiento</td>\n",
              "    </tr>\n",
              "    <tr>\n",
              "      <th>4784</th>\n",
              "      <td>2022-04-05 00:35:04</td>\n",
              "      <td>Video: Olivia Rodrigo tira su Grammy y lo rompe</td>\n",
              "      <td>US</td>\n",
              "      <td>La cantante Olivia Rodrigo ganó tres gramófono...</td>\n",
              "      <td>La cantante Olivia Rodrigo ganó tres gramófono...</td>\n",
              "      <td>https://www.dallasnews.com/espanol/al-dia/espe...</td>\n",
              "      <td>entretenimiento</td>\n",
              "    </tr>\n",
              "    <tr>\n",
              "      <th>667</th>\n",
              "      <td>2022-04-03 23:14:07</td>\n",
              "      <td>Lista de ganadores de los premios Grammy</td>\n",
              "      <td>US</td>\n",
              "      <td>Lista parcial de ganadores de los premios Gram...</td>\n",
              "      <td>Lista parcial de ganadores de los premios Gram...</td>\n",
              "      <td>https://www.milfordmirror.com/entertainment/ar...</td>\n",
              "      <td>entretenimiento</td>\n",
              "    </tr>\n",
              "    <tr>\n",
              "      <th>4386</th>\n",
              "      <td>2022-04-03 14:00:29</td>\n",
              "      <td>Ciencia en Panamá: Ciencia a bordo de mini sub...</td>\n",
              "      <td>PA</td>\n",
              "      <td>Los vehículos sumergibles han permitido a los ...</td>\n",
              "      <td>Por Helkin Guevara (Corresponsal digital)\\n\\n\\...</td>\n",
              "      <td>https://www.tvn-2.com/contenido_exclusivo/Cien...</td>\n",
              "      <td>entretenimiento</td>\n",
              "    </tr>\n",
              "  </tbody>\n",
              "</table>\n",
              "</div>\n",
              "      <button class=\"colab-df-convert\" onclick=\"convertToInteractive('df-6547020b-0981-4a3b-8ed7-562bb457c2c3')\"\n",
              "              title=\"Convert this dataframe to an interactive table.\"\n",
              "              style=\"display:none;\">\n",
              "        \n",
              "  <svg xmlns=\"http://www.w3.org/2000/svg\" height=\"24px\"viewBox=\"0 0 24 24\"\n",
              "       width=\"24px\">\n",
              "    <path d=\"M0 0h24v24H0V0z\" fill=\"none\"/>\n",
              "    <path d=\"M18.56 5.44l.94 2.06.94-2.06 2.06-.94-2.06-.94-.94-2.06-.94 2.06-2.06.94zm-11 1L8.5 8.5l.94-2.06 2.06-.94-2.06-.94L8.5 2.5l-.94 2.06-2.06.94zm10 10l.94 2.06.94-2.06 2.06-.94-2.06-.94-.94-2.06-.94 2.06-2.06.94z\"/><path d=\"M17.41 7.96l-1.37-1.37c-.4-.4-.92-.59-1.43-.59-.52 0-1.04.2-1.43.59L10.3 9.45l-7.72 7.72c-.78.78-.78 2.05 0 2.83L4 21.41c.39.39.9.59 1.41.59.51 0 1.02-.2 1.41-.59l7.78-7.78 2.81-2.81c.8-.78.8-2.07 0-2.86zM5.41 20L4 18.59l7.72-7.72 1.47 1.35L5.41 20z\"/>\n",
              "  </svg>\n",
              "      </button>\n",
              "      \n",
              "  <style>\n",
              "    .colab-df-container {\n",
              "      display:flex;\n",
              "      flex-wrap:wrap;\n",
              "      gap: 12px;\n",
              "    }\n",
              "\n",
              "    .colab-df-convert {\n",
              "      background-color: #E8F0FE;\n",
              "      border: none;\n",
              "      border-radius: 50%;\n",
              "      cursor: pointer;\n",
              "      display: none;\n",
              "      fill: #1967D2;\n",
              "      height: 32px;\n",
              "      padding: 0 0 0 0;\n",
              "      width: 32px;\n",
              "    }\n",
              "\n",
              "    .colab-df-convert:hover {\n",
              "      background-color: #E2EBFA;\n",
              "      box-shadow: 0px 1px 2px rgba(60, 64, 67, 0.3), 0px 1px 3px 1px rgba(60, 64, 67, 0.15);\n",
              "      fill: #174EA6;\n",
              "    }\n",
              "\n",
              "    [theme=dark] .colab-df-convert {\n",
              "      background-color: #3B4455;\n",
              "      fill: #D2E3FC;\n",
              "    }\n",
              "\n",
              "    [theme=dark] .colab-df-convert:hover {\n",
              "      background-color: #434B5C;\n",
              "      box-shadow: 0px 1px 3px 1px rgba(0, 0, 0, 0.15);\n",
              "      filter: drop-shadow(0px 1px 2px rgba(0, 0, 0, 0.3));\n",
              "      fill: #FFFFFF;\n",
              "    }\n",
              "  </style>\n",
              "\n",
              "      <script>\n",
              "        const buttonEl =\n",
              "          document.querySelector('#df-6547020b-0981-4a3b-8ed7-562bb457c2c3 button.colab-df-convert');\n",
              "        buttonEl.style.display =\n",
              "          google.colab.kernel.accessAllowed ? 'block' : 'none';\n",
              "\n",
              "        async function convertToInteractive(key) {\n",
              "          const element = document.querySelector('#df-6547020b-0981-4a3b-8ed7-562bb457c2c3');\n",
              "          const dataTable =\n",
              "            await google.colab.kernel.invokeFunction('convertToInteractive',\n",
              "                                                     [key], {});\n",
              "          if (!dataTable) return;\n",
              "\n",
              "          const docLinkHtml = 'Like what you see? Visit the ' +\n",
              "            '<a target=\"_blank\" href=https://colab.research.google.com/notebooks/data_table.ipynb>data table notebook</a>'\n",
              "            + ' to learn more about interactive tables.';\n",
              "          element.innerHTML = '';\n",
              "          dataTable['output_type'] = 'display_data';\n",
              "          await google.colab.output.renderOutput(dataTable, element);\n",
              "          const docLink = document.createElement('div');\n",
              "          docLink.innerHTML = docLinkHtml;\n",
              "          element.appendChild(docLink);\n",
              "        }\n",
              "      </script>\n",
              "    </div>\n",
              "  </div>\n",
              "  "
            ]
          },
          "metadata": {},
          "execution_count": 2
        }
      ]
    },
    {
      "cell_type": "code",
      "source": [
        "entrenamiento.shape"
      ],
      "metadata": {
        "colab": {
          "base_uri": "https://localhost:8080/"
        },
        "id": "CMhvGE-QDhEZ",
        "outputId": "47c11853-9c29-4042-9e09-10715ba933e9"
      },
      "execution_count": 3,
      "outputs": [
        {
          "output_type": "execute_result",
          "data": {
            "text/plain": [
              "(91844, 7)"
            ]
          },
          "metadata": {},
          "execution_count": 3
        }
      ]
    },
    {
      "cell_type": "code",
      "source": [
        "test.shape"
      ],
      "metadata": {
        "colab": {
          "base_uri": "https://localhost:8080/"
        },
        "id": "Qo7_MT9iLLHf",
        "outputId": "f98b9fc0-7530-4a0e-c148-f01c4f266177"
      },
      "execution_count": 4,
      "outputs": [
        {
          "output_type": "execute_result",
          "data": {
            "text/plain": [
              "(22961, 7)"
            ]
          },
          "metadata": {},
          "execution_count": 4
        }
      ]
    },
    {
      "cell_type": "code",
      "source": [
        "from sklearn.feature_extraction.text import CountVectorizer\n",
        "\n",
        "vector = CountVectorizer()"
      ],
      "metadata": {
        "id": "Z1XdBpIrLLLy"
      },
      "execution_count": 5,
      "outputs": []
    },
    {
      "cell_type": "code",
      "source": [
        "texto = [\n",
        "         \"tenga un buen día\",\n",
        "         \"tenga un excelente día\",\n",
        "         \"tenga un pésimo día luna sol carro casa familia\"\n",
        "]"
      ],
      "metadata": {
        "id": "oUAuLPrJLLRm"
      },
      "execution_count": 6,
      "outputs": []
    },
    {
      "cell_type": "code",
      "source": [
        "vector.fit(texto)"
      ],
      "metadata": {
        "colab": {
          "base_uri": "https://localhost:8080/"
        },
        "id": "A2Q1zXedLLUq",
        "outputId": "c154a081-9de2-4cf4-f9a4-dc8032787443"
      },
      "execution_count": 7,
      "outputs": [
        {
          "output_type": "execute_result",
          "data": {
            "text/plain": [
              "CountVectorizer()"
            ]
          },
          "metadata": {},
          "execution_count": 7
        }
      ]
    },
    {
      "cell_type": "code",
      "source": [
        "vector.vocabulary_"
      ],
      "metadata": {
        "colab": {
          "base_uri": "https://localhost:8080/"
        },
        "id": "VydvXpIPVVxF",
        "outputId": "0f395e00-6bd2-4ca3-f43d-f23445d8e671"
      },
      "execution_count": 8,
      "outputs": [
        {
          "output_type": "execute_result",
          "data": {
            "text/plain": [
              "{'buen': 0,\n",
              " 'carro': 1,\n",
              " 'casa': 2,\n",
              " 'día': 3,\n",
              " 'excelente': 4,\n",
              " 'familia': 5,\n",
              " 'luna': 6,\n",
              " 'pésimo': 7,\n",
              " 'sol': 8,\n",
              " 'tenga': 9,\n",
              " 'un': 10}"
            ]
          },
          "metadata": {},
          "execution_count": 8
        }
      ]
    },
    {
      "cell_type": "code",
      "source": [
        "vector_bueno = vector.transform(['buen'])"
      ],
      "metadata": {
        "id": "moY2ePtdVVza"
      },
      "execution_count": 9,
      "outputs": []
    },
    {
      "cell_type": "code",
      "source": [
        "vector_luna = vector.transform(['luna'])"
      ],
      "metadata": {
        "id": "_KY1-J1AWpd1"
      },
      "execution_count": 10,
      "outputs": []
    },
    {
      "cell_type": "code",
      "source": [
        "print(vector_bueno)"
      ],
      "metadata": {
        "colab": {
          "base_uri": "https://localhost:8080/"
        },
        "id": "NMlU5xZuVV1s",
        "outputId": "1b2dd657-43a8-490f-b4ab-00dc4a20a016"
      },
      "execution_count": 11,
      "outputs": [
        {
          "output_type": "stream",
          "name": "stdout",
          "text": [
            "  (0, 0)\t1\n"
          ]
        }
      ]
    },
    {
      "cell_type": "code",
      "source": [
        "vector_bueno"
      ],
      "metadata": {
        "colab": {
          "base_uri": "https://localhost:8080/"
        },
        "id": "UqyBLfRvVvHU",
        "outputId": "946c7d21-dad2-412f-9e0e-d10eec35d7b0"
      },
      "execution_count": 12,
      "outputs": [
        {
          "output_type": "execute_result",
          "data": {
            "text/plain": [
              "<1x11 sparse matrix of type '<class 'numpy.int64'>'\n",
              "\twith 1 stored elements in Compressed Sparse Row format>"
            ]
          },
          "metadata": {},
          "execution_count": 12
        }
      ]
    },
    {
      "cell_type": "code",
      "source": [
        "print(vector_bueno.toarray())"
      ],
      "metadata": {
        "colab": {
          "base_uri": "https://localhost:8080/"
        },
        "id": "WjPspUzjVvMa",
        "outputId": "2ad1b3ec-4212-44bd-abd1-fbe475aa95f2"
      },
      "execution_count": 13,
      "outputs": [
        {
          "output_type": "stream",
          "name": "stdout",
          "text": [
            "[[1 0 0 0 0 0 0 0 0 0 0]]\n"
          ]
        }
      ]
    },
    {
      "cell_type": "code",
      "source": [
        "print(vector_luna.toarray())"
      ],
      "metadata": {
        "colab": {
          "base_uri": "https://localhost:8080/"
        },
        "id": "l19iiqX2WJZh",
        "outputId": "dd0fcf8b-a49c-49c2-cf74-be081125aa1d"
      },
      "execution_count": 14,
      "outputs": [
        {
          "output_type": "stream",
          "name": "stdout",
          "text": [
            "[[0 0 0 0 0 0 1 0 0 0 0]]\n"
          ]
        }
      ]
    },
    {
      "cell_type": "markdown",
      "source": [
        "## 2. Cargando un modelo Word2Vec"
      ],
      "metadata": {
        "id": "fDf1Yk2jDfzd"
      }
    },
    {
      "cell_type": "code",
      "source": [
        "!unzip '/content/drive/MyDrive/word2vec/keyed_vectors.zip'"
      ],
      "metadata": {
        "colab": {
          "base_uri": "https://localhost:8080/"
        },
        "id": "seTqThP_MfJG",
        "outputId": "e20f38b3-5ad7-4539-f41d-0109e11985db"
      },
      "execution_count": 15,
      "outputs": [
        {
          "output_type": "stream",
          "name": "stdout",
          "text": [
            "Archive:  /content/drive/MyDrive/word2vec/keyed_vectors.zip\n",
            "  inflating: complete.kv             \n",
            "  inflating: complete.kv.vectors.npy  \n"
          ]
        }
      ]
    },
    {
      "cell_type": "code",
      "source": [
        "from gensim.models import KeyedVectors\n",
        "\n",
        "modelo = KeyedVectors.load('/content/complete.kv')"
      ],
      "metadata": {
        "id": "wtNY1FRTMfGX"
      },
      "execution_count": 16,
      "outputs": []
    },
    {
      "cell_type": "markdown",
      "source": [
        "## 3. Entendiendo Word2Vec"
      ],
      "metadata": {
        "id": "5JYhf0V2DzKB"
      }
    },
    {
      "cell_type": "code",
      "source": [
        "modelo.get_vector('rusia')"
      ],
      "metadata": {
        "colab": {
          "base_uri": "https://localhost:8080/"
        },
        "id": "isTtaAX-MheF",
        "outputId": "74491b7a-ba3c-45a7-9d8f-439951d4812c"
      },
      "execution_count": 17,
      "outputs": [
        {
          "output_type": "execute_result",
          "data": {
            "text/plain": [
              "array([ 1.81506336e-01,  7.12285161e-01, -7.40406871e-01,  2.59009194e+00,\n",
              "        2.42028356e+00,  3.58315766e-01, -2.15411949e+00,  6.19949877e-01,\n",
              "       -1.58195674e+00,  1.54491818e+00,  1.46719420e+00, -7.03221202e-01,\n",
              "        2.09037781e+00, -1.13215275e-01, -5.64340353e-01,  1.01796961e+00,\n",
              "       -1.66986406e+00, -7.41993561e-02, -3.33077788e-01,  2.32870013e-01,\n",
              "       -8.01489234e-01,  4.48490649e-01, -4.02902395e-01, -2.12651685e-01,\n",
              "       -9.53191996e-01, -1.09190546e-01, -3.18247795e-01,  1.79606867e+00,\n",
              "        2.32772017e+00, -1.92491317e+00,  6.01871610e-01, -5.39401770e-01,\n",
              "        6.07950449e-01,  2.92399406e-01, -6.02105737e-01,  1.31095541e+00,\n",
              "       -6.24053299e-01, -5.23794055e-01,  1.00642741e+00, -5.95752716e-01,\n",
              "        5.76731563e-03, -8.13566089e-01, -2.50728965e+00, -8.18064511e-01,\n",
              "        2.18556118e+00, -3.08079720e+00,  7.81908751e-01,  6.62506402e-01,\n",
              "       -8.95268857e-01, -1.91720939e+00, -2.33609056e+00,  5.78275084e-01,\n",
              "       -1.27308249e+00,  1.02177513e+00, -7.32530177e-01, -7.16315925e-01,\n",
              "       -1.43529677e+00, -3.32270265e-01, -5.83208501e-01,  3.64076793e-01,\n",
              "       -1.71691835e+00,  1.14475107e+00, -8.94337078e-04,  1.19806953e-01,\n",
              "        9.80273783e-01,  6.64886594e-01, -1.06935441e+00,  5.85123241e-01,\n",
              "       -2.03426834e-02,  1.65484473e-01,  1.37852764e+00, -3.93679217e-02,\n",
              "        7.79304147e-01,  2.30363622e-01, -1.15089560e+00, -3.51051062e-01,\n",
              "       -9.03706491e-01,  3.77760530e-01, -1.65686822e+00, -2.01463914e+00,\n",
              "       -8.97812564e-03, -6.59386575e-01,  2.03017426e+00,  7.53535688e-01,\n",
              "        7.17407286e-01, -1.20001709e+00,  1.28022897e+00,  5.78802168e-01,\n",
              "       -1.13656366e+00, -8.65365386e-01,  2.03235793e+00,  3.46079969e+00,\n",
              "       -1.57000887e+00, -3.76675755e-01,  1.48720372e+00,  3.32455277e-01,\n",
              "        3.57610919e-02, -1.51787713e-01,  7.55576611e-01, -1.09913039e+00,\n",
              "        3.43184978e-01, -5.83411455e-01,  3.48383963e-01, -2.91316104e+00,\n",
              "       -1.91727138e+00,  1.17115963e+00, -1.30733514e+00, -1.15552282e+00,\n",
              "        2.54655600e-01, -5.60324371e-01,  3.19863176e+00, -1.70181170e-01,\n",
              "        7.55666316e-01,  1.00476193e+00, -2.35684991e-01, -9.79207933e-01,\n",
              "       -8.71338904e-01,  1.55465275e-01,  1.02921879e+00,  1.09143071e-01,\n",
              "        5.36782324e-01,  6.14894927e-01, -1.97644687e+00, -1.16630757e+00,\n",
              "        1.48937845e+00, -3.63995016e-01,  4.63459015e-01, -3.58955055e-01,\n",
              "       -1.02865472e-01, -1.04332946e-01, -5.89708328e-01,  1.34576643e+00,\n",
              "       -2.48406053e+00, -1.05472600e+00,  9.12859142e-01, -4.60928679e-01,\n",
              "        6.14431441e-01, -9.76865292e-01, -1.12274870e-01,  2.01024294e+00,\n",
              "        2.03515863e+00, -1.11167836e+00,  9.54516649e-01, -2.74177837e+00,\n",
              "        1.79265320e+00, -1.16203797e+00,  4.22871083e-01,  2.67902470e+00,\n",
              "        1.22349024e+00,  1.20202208e+00,  2.28927046e-01,  1.16899216e+00,\n",
              "       -1.01148582e+00,  4.29145545e-01,  4.97083575e-01,  3.36161464e-01,\n",
              "       -7.32174277e-01,  1.21538319e-01,  3.19525599e-01,  1.37815392e+00,\n",
              "        2.57658696e+00, -1.18895814e-01,  2.84355521e+00,  3.39390844e-01,\n",
              "       -1.45218420e+00, -1.68653458e-01, -5.96313775e-01,  9.36378315e-02,\n",
              "        2.07002068e+00,  2.50965142e+00,  2.35715365e+00,  8.03663552e-01,\n",
              "        1.41795051e+00,  1.99117744e+00, -9.98121560e-01,  1.08850193e+00,\n",
              "       -2.78327847e+00, -1.49073750e-01,  6.89347908e-02, -1.22930121e+00,\n",
              "       -7.66975105e-01,  3.64455402e-01, -4.61570680e-01,  5.56034625e-01,\n",
              "        5.87945700e-01,  8.91701639e-01, -2.37284422e+00,  3.14151168e-01,\n",
              "        3.00965786e-01,  5.64963639e-01,  9.96259749e-01, -1.16777086e+00,\n",
              "       -1.43139660e-01,  1.20975244e+00,  2.22376823e+00, -2.53118038e+00,\n",
              "       -2.51472974e+00, -8.97358179e-01,  1.62145519e+00, -9.26058471e-01,\n",
              "        1.00878084e+00,  7.49157548e-01,  2.63274508e-03,  6.10568793e-03,\n",
              "        5.19385934e-01, -1.37825501e+00,  2.16439748e+00, -1.75236762e-01,\n",
              "       -5.01740694e-01, -2.57790470e+00, -1.22691214e+00,  1.25561714e+00,\n",
              "        1.42291188e+00,  5.11402190e-01,  4.33699101e-01, -1.83745503e-01,\n",
              "        1.69524050e+00,  1.19483411e+00,  1.33454871e+00, -2.21550345e+00,\n",
              "       -1.25559437e+00,  9.26639676e-01,  2.42717218e+00,  4.61993180e-02,\n",
              "        4.46939282e-02,  1.04970074e+00,  1.05860496e+00, -1.20499253e-01,\n",
              "        1.25711590e-01,  1.24391234e+00, -7.32624292e-01, -1.80330014e+00,\n",
              "        7.53782988e-01, -6.45386517e-01,  1.29507685e+00, -5.63061774e-01,\n",
              "       -8.65645051e-01,  1.65422964e+00,  6.39584959e-01,  1.89510179e+00,\n",
              "       -1.40774202e+00, -1.27875865e+00,  7.86127076e-02,  7.21556544e-01,\n",
              "       -5.78796029e-01,  2.32720256e+00, -3.64124417e-01,  1.17923594e+00,\n",
              "        7.28667617e-01, -1.09723234e+00, -9.32312906e-01, -2.08321667e+00,\n",
              "        8.70818079e-01,  6.80338085e-01,  9.29866493e-01,  4.42004912e-02,\n",
              "        2.81937629e-01, -1.87639463e+00,  3.52338850e-01,  2.55751824e+00,\n",
              "       -1.27332139e+00, -2.43341513e-02,  1.04607189e+00,  1.61343527e+00,\n",
              "        1.26305509e+00,  3.50630164e-01, -8.05051506e-01, -5.98353505e-01,\n",
              "       -5.56099832e-01, -4.88435656e-01,  7.58013427e-01,  1.95313573e-01,\n",
              "        4.69853729e-01,  7.03340828e-01, -6.47164047e-01, -9.54034984e-01,\n",
              "       -1.70144773e+00,  2.79254794e-01,  2.76909351e+00, -7.80699849e-01,\n",
              "        7.65475094e-01,  1.94565809e+00,  1.71790108e-01, -7.32801497e-01,\n",
              "        2.00916338e+00, -6.71085358e-01,  1.25760400e+00, -7.92786703e-02,\n",
              "       -8.12968731e-01,  3.06894660e-01,  6.72896355e-02,  1.54577866e-01,\n",
              "       -2.07646251e+00,  3.55642289e-03, -9.20015633e-01,  5.56903005e-01,\n",
              "       -4.20326769e-01, -3.93225729e-01,  5.72016180e-01,  2.34965897e+00,\n",
              "        1.27807927e+00,  7.50099942e-02, -1.30601835e+00, -8.34998786e-01,\n",
              "        1.06480753e+00,  5.65124333e-01, -2.83736086e+00,  4.24366035e-02,\n",
              "       -4.12236899e-01,  1.14069521e+00,  6.13469742e-02,  9.00011733e-02,\n",
              "        2.08974624e+00, -4.79432970e-01,  1.67430127e+00, -7.52728283e-01,\n",
              "        1.16018228e-01, -1.79973054e+00, -4.95983839e-01,  2.87109584e-01,\n",
              "       -2.35548639e+00,  1.64293826e+00, -1.43341154e-01, -1.04106247e+00,\n",
              "       -2.88556635e-01,  4.35985470e+00, -3.72192740e-01, -1.02903843e+00,\n",
              "       -1.50308788e+00,  1.30689049e+00, -2.29815936e+00,  3.22028607e-01,\n",
              "        5.67651689e-01,  1.62717605e+00,  1.12584555e+00,  2.53137589e+00,\n",
              "        1.70410740e+00,  9.33719397e-01,  1.94515407e-01, -2.21670508e-01,\n",
              "        6.83357775e-01,  6.57289267e-01,  2.57457590e+00,  1.12560308e+00,\n",
              "       -1.46434462e+00,  1.86632979e+00,  3.08640242e-01, -1.17014492e+00,\n",
              "       -1.45553744e+00, -1.10801950e-01,  6.32315278e-01,  2.79769957e-01,\n",
              "        1.70764315e+00,  1.21496201e-01,  2.16152883e+00, -1.84504592e+00,\n",
              "       -8.90003800e-01, -2.26209664e+00,  7.23921835e-01,  7.01837599e-01,\n",
              "       -1.29218280e+00,  1.53791630e+00,  9.91762042e-01,  2.50214553e+00,\n",
              "        1.89152610e+00,  5.87398112e-01, -1.58170807e+00, -1.87251496e+00,\n",
              "        2.21669817e+00, -3.39611769e-01, -2.93447018e-01,  4.37496454e-01,\n",
              "        2.76769489e-01,  3.54264583e-03,  4.50546682e-01,  1.83310986e-01,\n",
              "        6.98088109e-01, -9.06551719e-01,  1.28538501e+00, -2.48017836e+00,\n",
              "       -8.02570820e-01, -2.68899828e-01, -4.92079407e-01, -1.10769622e-01,\n",
              "        2.86234975e+00,  2.78365910e-01, -7.39332855e-01,  1.58250391e-01,\n",
              "       -5.09590566e-01, -3.52572203e-01,  9.18270588e-01,  1.01917410e+00,\n",
              "       -2.12572908e+00, -1.70449126e+00, -4.12730098e-01,  3.22650105e-01,\n",
              "       -9.32987511e-01,  2.21489406e+00,  4.33512777e-01,  3.36855471e-01],\n",
              "      dtype=float32)"
            ]
          },
          "metadata": {},
          "execution_count": 17
        }
      ]
    },
    {
      "cell_type": "code",
      "source": [
        "len(modelo.get_vector('rusia'))"
      ],
      "metadata": {
        "colab": {
          "base_uri": "https://localhost:8080/"
        },
        "id": "L4KYaPZ5TcPV",
        "outputId": "b2adeee4-d9f3-486d-8cde-fbd663cbd20c"
      },
      "execution_count": 18,
      "outputs": [
        {
          "output_type": "execute_result",
          "data": {
            "text/plain": [
              "400"
            ]
          },
          "metadata": {},
          "execution_count": 18
        }
      ]
    },
    {
      "cell_type": "code",
      "source": [
        "modelo.most_similar('rusia')"
      ],
      "metadata": {
        "colab": {
          "base_uri": "https://localhost:8080/"
        },
        "id": "Tk_aFg-TMhgy",
        "outputId": "66ccfb40-dac2-4b99-e472-46c195c9a211"
      },
      "execution_count": 19,
      "outputs": [
        {
          "output_type": "execute_result",
          "data": {
            "text/plain": [
              "[('alemania', 0.8213340044021606),\n",
              " ('polonia', 0.8001416921615601),\n",
              " ('ucrania', 0.7762457132339478),\n",
              " ('francia', 0.7627276182174683),\n",
              " ('urss', 0.7625904083251953),\n",
              " ('europa', 0.7537119388580322),\n",
              " ('italia', 0.712181568145752),\n",
              " ('turquía', 0.7068266272544861),\n",
              " ('españa', 0.7036899328231812),\n",
              " ('moscú', 0.702022910118103)]"
            ]
          },
          "metadata": {},
          "execution_count": 19
        }
      ]
    },
    {
      "cell_type": "code",
      "source": [
        "modelo.most_similar('peugeot')"
      ],
      "metadata": {
        "colab": {
          "base_uri": "https://localhost:8080/"
        },
        "id": "cX53ut8bUHh2",
        "outputId": "7a25ad96-6008-40f0-86bd-472f110534e3"
      },
      "execution_count": 20,
      "outputs": [
        {
          "output_type": "execute_result",
          "data": {
            "text/plain": [
              "[('audi', 0.8497860431671143),\n",
              " ('citroën', 0.8487632870674133),\n",
              " ('bmw', 0.8417755961418152),\n",
              " ('toyota', 0.8200501799583435),\n",
              " ('porsche', 0.8196049928665161),\n",
              " ('chevrolet', 0.8028586506843567),\n",
              " ('opel', 0.7941076755523682),\n",
              " ('volvo', 0.7930978536605835),\n",
              " ('renault', 0.7916873693466187),\n",
              " ('volkswagen', 0.7833201885223389)]"
            ]
          },
          "metadata": {},
          "execution_count": 20
        }
      ]
    },
    {
      "cell_type": "code",
      "source": [
        "modelo.most_similar('portugal')"
      ],
      "metadata": {
        "colab": {
          "base_uri": "https://localhost:8080/"
        },
        "id": "hQRBaLoTUHjv",
        "outputId": "f4c0da7c-e2e4-404a-dd43-728213fc94cd"
      },
      "execution_count": 21,
      "outputs": [
        {
          "output_type": "execute_result",
          "data": {
            "text/plain": [
              "[('lisboa', 0.7357922792434692),\n",
              " ('francia', 0.7306839823722839),\n",
              " ('españa', 0.6988375186920166),\n",
              " ('italia', 0.6697657108306885),\n",
              " ('castilla', 0.6617139577865601),\n",
              " ('austria', 0.6451452970504761),\n",
              " ('brasil', 0.6380101442337036),\n",
              " ('galicia', 0.6311914920806885),\n",
              " ('flandes', 0.6305932402610779),\n",
              " ('marruecos', 0.6281476020812988)]"
            ]
          },
          "metadata": {},
          "execution_count": 21
        }
      ]
    },
    {
      "cell_type": "code",
      "source": [
        "modelo.most_similar(positive=['colombia','ecuador'])"
      ],
      "metadata": {
        "colab": {
          "base_uri": "https://localhost:8080/"
        },
        "id": "f7l_sm2MWWu8",
        "outputId": "397a2e6f-dcfb-497d-87e4-0779476b8569"
      },
      "execution_count": 22,
      "outputs": [
        {
          "output_type": "execute_result",
          "data": {
            "text/plain": [
              "[('venezuela', 0.702144980430603),\n",
              " ('bolivia', 0.6926755905151367),\n",
              " ('peru', 0.6321871876716614),\n",
              " ('bogotá', 0.5886013507843018),\n",
              " ('perú', 0.5810149908065796),\n",
              " ('panamá', 0.5775487422943115),\n",
              " ('ecuatoriana', 0.577391505241394),\n",
              " ('nicaragua', 0.5680162906646729),\n",
              " ('guayaquil', 0.5547071695327759),\n",
              " ('paraguay', 0.5499962568283081)]"
            ]
          },
          "metadata": {},
          "execution_count": 22
        }
      ]
    },
    {
      "cell_type": "code",
      "source": [
        "modelo.most_similar(positive=['paraguay','canada'])"
      ],
      "metadata": {
        "colab": {
          "base_uri": "https://localhost:8080/"
        },
        "id": "eFyGImIjWW5A",
        "outputId": "956db809-b36d-422c-b4d4-78693c23b38b"
      },
      "execution_count": 23,
      "outputs": [
        {
          "output_type": "execute_result",
          "data": {
            "text/plain": [
              "[('canadá', 0.610359787940979),\n",
              " ('brasil', 0.6053897738456726),\n",
              " ('uruguay', 0.5750980377197266),\n",
              " ('argentina', 0.5463083386421204),\n",
              " ('perú', 0.5372594594955444),\n",
              " ('bolivia', 0.529151201248169),\n",
              " ('chile', 0.5125446319580078),\n",
              " ('ottawa', 0.4764121472835541),\n",
              " ('panamá', 0.4652531147003174),\n",
              " ('venezuela', 0.4532638192176819)]"
            ]
          },
          "metadata": {},
          "execution_count": 23
        }
      ]
    },
    {
      "cell_type": "code",
      "source": [
        "modelo.most_similar(positive=['italia','ferrari'])"
      ],
      "metadata": {
        "colab": {
          "base_uri": "https://localhost:8080/"
        },
        "id": "JZFS6PzIYCcX",
        "outputId": "66fdd468-be96-45e4-92c2-0e44e1ea16ef"
      },
      "execution_count": 24,
      "outputs": [
        {
          "output_type": "execute_result",
          "data": {
            "text/plain": [
              "[('milán', 0.600520133972168),\n",
              " ('francia', 0.5976483225822449),\n",
              " ('maserati', 0.5933842658996582),\n",
              " ('imola', 0.5910633206367493),\n",
              " ('maranello', 0.585680365562439),\n",
              " ('sicilia', 0.568071186542511),\n",
              " ('vallelunga', 0.5674858689308167),\n",
              " ('scuderia', 0.5674735307693481),\n",
              " ('bugatti', 0.5651099681854248),\n",
              " ('nuvolari', 0.5624744296073914)]"
            ]
          },
          "metadata": {},
          "execution_count": 24
        }
      ]
    },
    {
      "cell_type": "code",
      "source": [
        "modelo.most_similar(negative=['italia','ferrari'])"
      ],
      "metadata": {
        "colab": {
          "base_uri": "https://localhost:8080/"
        },
        "id": "aOdMNMPjYTQW",
        "outputId": "9f63e33f-8643-4b1a-a9f4-583cf20163da"
      },
      "execution_count": 25,
      "outputs": [
        {
          "output_type": "execute_result",
          "data": {
            "text/plain": [
              "[('kenbugul', 0.25659114122390747),\n",
              " ('llenaba', 0.25351476669311523),\n",
              " ('«armadura»', 0.24964860081672668),\n",
              " ('protegía', 0.2473001331090927),\n",
              " ('liberaba', 0.23972740769386292),\n",
              " ('llenaban', 0.23930209875106812),\n",
              " ('oprimía', 0.2392035871744156),\n",
              " ('arrojaba', 0.23916885256767273),\n",
              " ('śāyin', 0.23895759880542755),\n",
              " ('bubónicos', 0.23644055426120758)]"
            ]
          },
          "metadata": {},
          "execution_count": 25
        }
      ]
    },
    {
      "cell_type": "markdown",
      "source": [
        "nube : nubes :: estrella : estrellas\n",
        "\n",
        "nubes + estrella - nube = estrellas \n",
        "\n",
        "carro : transporte :: casa : vivienda"
      ],
      "metadata": {
        "id": "FxgHpYb-alp_"
      }
    },
    {
      "cell_type": "code",
      "source": [
        "modelo.most_similar(positive=['nubes','estrella'], negative=['nube'])"
      ],
      "metadata": {
        "colab": {
          "base_uri": "https://localhost:8080/"
        },
        "id": "Nc9KKp8gajtw",
        "outputId": "c790a5de-207b-42a5-816c-6ce971d5acf3"
      },
      "execution_count": 26,
      "outputs": [
        {
          "output_type": "execute_result",
          "data": {
            "text/plain": [
              "[('estrellas', 0.7377859354019165),\n",
              " ('constelaciones', 0.5660182237625122),\n",
              " ('pléyades', 0.5638790130615234),\n",
              " ('lunas', 0.5301465392112732),\n",
              " ('galaxias', 0.520189106464386),\n",
              " ('estrellas—', 0.49540942907333374),\n",
              " ('estrellitas', 0.49305015802383423),\n",
              " ('cumbres', 0.4923092722892761),\n",
              " ('cimas', 0.4908401072025299),\n",
              " ('auroras', 0.48563718795776367)]"
            ]
          },
          "metadata": {},
          "execution_count": 26
        }
      ]
    },
    {
      "cell_type": "code",
      "source": [
        "modelo.most_similar(positive=['mujer','profesor'], negative=['hombre'])"
      ],
      "metadata": {
        "colab": {
          "base_uri": "https://localhost:8080/"
        },
        "id": "w3dzZ1eJajyY",
        "outputId": "6960ec6e-a14c-41ef-8b0a-523075a7338a"
      },
      "execution_count": 27,
      "outputs": [
        {
          "output_type": "execute_result",
          "data": {
            "text/plain": [
              "[('profesora', 0.7569466829299927),\n",
              " ('alumna', 0.641080915927887),\n",
              " ('catedrática', 0.5854173898696899),\n",
              " ('secretaria', 0.5741715431213379),\n",
              " ('psicóloga', 0.564406156539917),\n",
              " ('institutriz', 0.5636638402938843),\n",
              " ('amiga', 0.5633606910705566),\n",
              " ('compañera', 0.5549027919769287),\n",
              " ('becaria', 0.5541263818740845),\n",
              " ('bibliotecaria', 0.5442808866500854)]"
            ]
          },
          "metadata": {},
          "execution_count": 27
        }
      ]
    },
    {
      "cell_type": "code",
      "source": [
        "modelo.most_similar(positive=['mujer','médico'], negative=['hombre'])"
      ],
      "metadata": {
        "colab": {
          "base_uri": "https://localhost:8080/"
        },
        "id": "eB2NuOHyaj0N",
        "outputId": "7316cc1f-f169-4934-a677-aae2f3727e5b"
      },
      "execution_count": 28,
      "outputs": [
        {
          "output_type": "execute_result",
          "data": {
            "text/plain": [
              "[('enfermera', 0.727431058883667),\n",
              " ('comadrona', 0.6748769283294678),\n",
              " ('psicóloga', 0.6288493871688843),\n",
              " ('criada', 0.6172555685043335),\n",
              " ('ginecóloga', 0.6131819486618042),\n",
              " ('sirvienta', 0.6024647951126099),\n",
              " ('partera', 0.588049590587616),\n",
              " ('chica', 0.5842192769050598),\n",
              " ('esposa', 0.5792689919471741),\n",
              " ('niñera', 0.5781521797180176)]"
            ]
          },
          "metadata": {},
          "execution_count": 28
        }
      ]
    },
    {
      "cell_type": "markdown",
      "source": [
        "## 4. Combinando Vectores"
      ],
      "metadata": {
        "id": "QmzHCHuJEQmd"
      }
    },
    {
      "cell_type": "code",
      "source": [
        ""
      ],
      "metadata": {
        "id": "OQwDFIkg7oBW"
      },
      "execution_count": null,
      "outputs": []
    },
    {
      "cell_type": "code",
      "source": [
        ""
      ],
      "metadata": {
        "id": "uSmzs8CV7oR_"
      },
      "execution_count": null,
      "outputs": []
    },
    {
      "cell_type": "code",
      "source": [
        ""
      ],
      "metadata": {
        "id": "yscXDI747oYl"
      },
      "execution_count": null,
      "outputs": []
    },
    {
      "cell_type": "markdown",
      "source": [
        "## 5. Clasificando textos"
      ],
      "metadata": {
        "id": "58RKUvJtEaO8"
      }
    },
    {
      "cell_type": "code",
      "source": [
        ""
      ],
      "metadata": {
        "id": "04Cp9wBz7Yv0"
      },
      "execution_count": null,
      "outputs": []
    },
    {
      "cell_type": "code",
      "source": [
        ""
      ],
      "metadata": {
        "id": "9eW4QHDa7Y4a"
      },
      "execution_count": null,
      "outputs": []
    },
    {
      "cell_type": "code",
      "source": [
        ""
      ],
      "metadata": {
        "id": "mrKlyKY57Y_v"
      },
      "execution_count": null,
      "outputs": []
    }
  ]
}