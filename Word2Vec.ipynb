{
  "nbformat": 4,
  "nbformat_minor": 0,
  "metadata": {
    "colab": {
      "name": "Word2Vec.ipynb",
      "provenance": [],
      "mount_file_id": "1RzekGbQQOV6NUOi-oBtw5bode8DmgoLv",
      "authorship_tag": "ABX9TyOVTKPVpu/SEoMPgbX3n7LM",
      "include_colab_link": true
    },
    "kernelspec": {
      "name": "python3",
      "display_name": "Python 3"
    },
    "language_info": {
      "name": "python"
    }
  },
  "cells": [
    {
      "cell_type": "markdown",
      "metadata": {
        "id": "view-in-github",
        "colab_type": "text"
      },
      "source": [
        "<a href=\"https://colab.research.google.com/github/ahcamachod/1893-word2vec-interpretacion-del-lenguaje-humano-con-word-embedding/blob/aula-3/Word2Vec.ipynb\" target=\"_parent\"><img src=\"https://colab.research.google.com/assets/colab-badge.svg\" alt=\"Open In Colab\"/></a>"
      ]
    },
    {
      "cell_type": "markdown",
      "source": [
        "# Word2Vec: Interpretación del lenguaje humano con Word Embedding\n",
        "\n",
        "En este notebook desarrollaremos un clasificador de noticias para una start-up de noticias llamada **Alura Latam News**.\n",
        "\n",
        "El modelo Word2Vec utilizado para entrenar nuestro clasificador fue tomado de la siguiente fuente: \n",
        " \n",
        "Aitor Almeida, Aritz Bilbao Jayo. (2018) \"Word2vec models for the Spanish Language.\" Available from: https://github.com/aitoralmeida/spanish_word2vec"
      ],
      "metadata": {
        "id": "e7hqJQuyCDd0"
      }
    },
    {
      "cell_type": "markdown",
      "source": [
        "## 1. Explorando el Dataset "
      ],
      "metadata": {
        "id": "yHDdHhYiDDhn"
      }
    },
    {
      "cell_type": "code",
      "execution_count": 1,
      "metadata": {
        "colab": {
          "base_uri": "https://localhost:8080/",
          "height": 597
        },
        "id": "UUMMYA_kBtPe",
        "outputId": "dae2fc78-16d5-4f4e-a4fb-c1e992e1c1e1"
      },
      "outputs": [
        {
          "output_type": "execute_result",
          "data": {
            "text/plain": [
              "                     fecha                                             titulo  \\\n",
              "86741  2022-03-18 11:15:00  Occidente pone en riesgo su seguridad al armar...   \n",
              "65498  2022-03-20 17:41:00  Rodríguez destacó el potencial de la producció...   \n",
              "55145  2022-03-31 14:58:11  \"El Gobierno puede garantizar que no va a falt...   \n",
              "27460  2022-04-04 22:30:00  El rosado, la tendencia 2022 que Eiza González...   \n",
              "13367  2022-03-29 11:02:40  Lorenzo Milá presenta la nueva etapa de 'En po...   \n",
              "\n",
              "      pais                                           extracto  \\\n",
              "86741   PR  El embajador ruso ante la ONU, Vasili Nebenzia...   \n",
              "65498   AR  El ministro de Desarrollo Agrario bonaerense, ...   \n",
              "55145   AR  La portavoz presidencial indicó que este 2022,...   \n",
              "27460   AR  Si te tienes que comprar una prenda, entonces ...   \n",
              "13367   ES  El veterano espacio se emitirá los miércoles e...   \n",
              "\n",
              "                                                 resumen  \\\n",
              "86741  El embajador ruso ante la ONU, Vasili Nebenzia...   \n",
              "65498  El ministro de Desarrollo Agrario bonaerense, ...   \n",
              "55145  La portavoz de la Presidencia, Gabriela Cerrut...   \n",
              "27460  Eiza González está siempre al salto de las ten...   \n",
              "13367  'En portada' inicia una nueva etapa con varios...   \n",
              "\n",
              "                                                  enlace             categoria  \n",
              "86741  https://www.noticel.com/mundo/top-stories/2022...                 mundo  \n",
              "65498  https://www.eldestapeweb.com/economia/buenos-a...              economia  \n",
              "55145  https://www.baenegocios.com/negocios/El-Gobier...              economia  \n",
              "27460  https://www.mdzol.com/mdz-femme/moda/2022/4/4/...  ciencia y tecnologia  \n",
              "13367  https://www.elperiodico.com/es/yotele/20220329...       entretenimiento  "
            ],
            "text/html": [
              "\n",
              "  <div id=\"df-864b04d2-d3ed-4fac-8a28-c3f12dc5655b\">\n",
              "    <div class=\"colab-df-container\">\n",
              "      <div>\n",
              "<style scoped>\n",
              "    .dataframe tbody tr th:only-of-type {\n",
              "        vertical-align: middle;\n",
              "    }\n",
              "\n",
              "    .dataframe tbody tr th {\n",
              "        vertical-align: top;\n",
              "    }\n",
              "\n",
              "    .dataframe thead th {\n",
              "        text-align: right;\n",
              "    }\n",
              "</style>\n",
              "<table border=\"1\" class=\"dataframe\">\n",
              "  <thead>\n",
              "    <tr style=\"text-align: right;\">\n",
              "      <th></th>\n",
              "      <th>fecha</th>\n",
              "      <th>titulo</th>\n",
              "      <th>pais</th>\n",
              "      <th>extracto</th>\n",
              "      <th>resumen</th>\n",
              "      <th>enlace</th>\n",
              "      <th>categoria</th>\n",
              "    </tr>\n",
              "  </thead>\n",
              "  <tbody>\n",
              "    <tr>\n",
              "      <th>86741</th>\n",
              "      <td>2022-03-18 11:15:00</td>\n",
              "      <td>Occidente pone en riesgo su seguridad al armar...</td>\n",
              "      <td>PR</td>\n",
              "      <td>El embajador ruso ante la ONU, Vasili Nebenzia...</td>\n",
              "      <td>El embajador ruso ante la ONU, Vasili Nebenzia...</td>\n",
              "      <td>https://www.noticel.com/mundo/top-stories/2022...</td>\n",
              "      <td>mundo</td>\n",
              "    </tr>\n",
              "    <tr>\n",
              "      <th>65498</th>\n",
              "      <td>2022-03-20 17:41:00</td>\n",
              "      <td>Rodríguez destacó el potencial de la producció...</td>\n",
              "      <td>AR</td>\n",
              "      <td>El ministro de Desarrollo Agrario bonaerense, ...</td>\n",
              "      <td>El ministro de Desarrollo Agrario bonaerense, ...</td>\n",
              "      <td>https://www.eldestapeweb.com/economia/buenos-a...</td>\n",
              "      <td>economia</td>\n",
              "    </tr>\n",
              "    <tr>\n",
              "      <th>55145</th>\n",
              "      <td>2022-03-31 14:58:11</td>\n",
              "      <td>\"El Gobierno puede garantizar que no va a falt...</td>\n",
              "      <td>AR</td>\n",
              "      <td>La portavoz presidencial indicó que este 2022,...</td>\n",
              "      <td>La portavoz de la Presidencia, Gabriela Cerrut...</td>\n",
              "      <td>https://www.baenegocios.com/negocios/El-Gobier...</td>\n",
              "      <td>economia</td>\n",
              "    </tr>\n",
              "    <tr>\n",
              "      <th>27460</th>\n",
              "      <td>2022-04-04 22:30:00</td>\n",
              "      <td>El rosado, la tendencia 2022 que Eiza González...</td>\n",
              "      <td>AR</td>\n",
              "      <td>Si te tienes que comprar una prenda, entonces ...</td>\n",
              "      <td>Eiza González está siempre al salto de las ten...</td>\n",
              "      <td>https://www.mdzol.com/mdz-femme/moda/2022/4/4/...</td>\n",
              "      <td>ciencia y tecnologia</td>\n",
              "    </tr>\n",
              "    <tr>\n",
              "      <th>13367</th>\n",
              "      <td>2022-03-29 11:02:40</td>\n",
              "      <td>Lorenzo Milá presenta la nueva etapa de 'En po...</td>\n",
              "      <td>ES</td>\n",
              "      <td>El veterano espacio se emitirá los miércoles e...</td>\n",
              "      <td>'En portada' inicia una nueva etapa con varios...</td>\n",
              "      <td>https://www.elperiodico.com/es/yotele/20220329...</td>\n",
              "      <td>entretenimiento</td>\n",
              "    </tr>\n",
              "  </tbody>\n",
              "</table>\n",
              "</div>\n",
              "      <button class=\"colab-df-convert\" onclick=\"convertToInteractive('df-864b04d2-d3ed-4fac-8a28-c3f12dc5655b')\"\n",
              "              title=\"Convert this dataframe to an interactive table.\"\n",
              "              style=\"display:none;\">\n",
              "        \n",
              "  <svg xmlns=\"http://www.w3.org/2000/svg\" height=\"24px\"viewBox=\"0 0 24 24\"\n",
              "       width=\"24px\">\n",
              "    <path d=\"M0 0h24v24H0V0z\" fill=\"none\"/>\n",
              "    <path d=\"M18.56 5.44l.94 2.06.94-2.06 2.06-.94-2.06-.94-.94-2.06-.94 2.06-2.06.94zm-11 1L8.5 8.5l.94-2.06 2.06-.94-2.06-.94L8.5 2.5l-.94 2.06-2.06.94zm10 10l.94 2.06.94-2.06 2.06-.94-2.06-.94-.94-2.06-.94 2.06-2.06.94z\"/><path d=\"M17.41 7.96l-1.37-1.37c-.4-.4-.92-.59-1.43-.59-.52 0-1.04.2-1.43.59L10.3 9.45l-7.72 7.72c-.78.78-.78 2.05 0 2.83L4 21.41c.39.39.9.59 1.41.59.51 0 1.02-.2 1.41-.59l7.78-7.78 2.81-2.81c.8-.78.8-2.07 0-2.86zM5.41 20L4 18.59l7.72-7.72 1.47 1.35L5.41 20z\"/>\n",
              "  </svg>\n",
              "      </button>\n",
              "      \n",
              "  <style>\n",
              "    .colab-df-container {\n",
              "      display:flex;\n",
              "      flex-wrap:wrap;\n",
              "      gap: 12px;\n",
              "    }\n",
              "\n",
              "    .colab-df-convert {\n",
              "      background-color: #E8F0FE;\n",
              "      border: none;\n",
              "      border-radius: 50%;\n",
              "      cursor: pointer;\n",
              "      display: none;\n",
              "      fill: #1967D2;\n",
              "      height: 32px;\n",
              "      padding: 0 0 0 0;\n",
              "      width: 32px;\n",
              "    }\n",
              "\n",
              "    .colab-df-convert:hover {\n",
              "      background-color: #E2EBFA;\n",
              "      box-shadow: 0px 1px 2px rgba(60, 64, 67, 0.3), 0px 1px 3px 1px rgba(60, 64, 67, 0.15);\n",
              "      fill: #174EA6;\n",
              "    }\n",
              "\n",
              "    [theme=dark] .colab-df-convert {\n",
              "      background-color: #3B4455;\n",
              "      fill: #D2E3FC;\n",
              "    }\n",
              "\n",
              "    [theme=dark] .colab-df-convert:hover {\n",
              "      background-color: #434B5C;\n",
              "      box-shadow: 0px 1px 3px 1px rgba(0, 0, 0, 0.15);\n",
              "      filter: drop-shadow(0px 1px 2px rgba(0, 0, 0, 0.3));\n",
              "      fill: #FFFFFF;\n",
              "    }\n",
              "  </style>\n",
              "\n",
              "      <script>\n",
              "        const buttonEl =\n",
              "          document.querySelector('#df-864b04d2-d3ed-4fac-8a28-c3f12dc5655b button.colab-df-convert');\n",
              "        buttonEl.style.display =\n",
              "          google.colab.kernel.accessAllowed ? 'block' : 'none';\n",
              "\n",
              "        async function convertToInteractive(key) {\n",
              "          const element = document.querySelector('#df-864b04d2-d3ed-4fac-8a28-c3f12dc5655b');\n",
              "          const dataTable =\n",
              "            await google.colab.kernel.invokeFunction('convertToInteractive',\n",
              "                                                     [key], {});\n",
              "          if (!dataTable) return;\n",
              "\n",
              "          const docLinkHtml = 'Like what you see? Visit the ' +\n",
              "            '<a target=\"_blank\" href=https://colab.research.google.com/notebooks/data_table.ipynb>data table notebook</a>'\n",
              "            + ' to learn more about interactive tables.';\n",
              "          element.innerHTML = '';\n",
              "          dataTable['output_type'] = 'display_data';\n",
              "          await google.colab.output.renderOutput(dataTable, element);\n",
              "          const docLink = document.createElement('div');\n",
              "          docLink.innerHTML = docLinkHtml;\n",
              "          element.appendChild(docLink);\n",
              "        }\n",
              "      </script>\n",
              "    </div>\n",
              "  </div>\n",
              "  "
            ]
          },
          "metadata": {},
          "execution_count": 1
        }
      ],
      "source": [
        "import pandas as pd\n",
        "\n",
        "entrenamiento = pd.read_csv(\"/content/drive/MyDrive/word2vec/noticias_entrenamiento.csv\")\n",
        "test = pd.read_csv(\"/content/drive/MyDrive/word2vec/noticias_prueba.csv\")\n",
        "entrenamiento.sample(5)"
      ]
    },
    {
      "cell_type": "code",
      "source": [
        "test.sample(5)"
      ],
      "metadata": {
        "colab": {
          "base_uri": "https://localhost:8080/",
          "height": 632
        },
        "id": "EAHSWGgODhB1",
        "outputId": "74e5d70c-d5e6-4f94-b9ee-e701371f8ab7"
      },
      "execution_count": 2,
      "outputs": [
        {
          "output_type": "execute_result",
          "data": {
            "text/plain": [
              "                     fecha                                             titulo  \\\n",
              "21495  2022-03-18 23:24:12  ¿Cómo será la inauguración del AIFA? Sedena ex...   \n",
              "8806   2022-03-31 21:59:17  Aida Victoria critica a Marbelle por comentari...   \n",
              "4784   2022-04-05 00:35:04    Video: Olivia Rodrigo tira su Grammy y lo rompe   \n",
              "667    2022-04-03 23:14:07           Lista de ganadores de los premios Grammy   \n",
              "4386   2022-04-03 14:00:29  Ciencia en Panamá: Ciencia a bordo de mini sub...   \n",
              "\n",
              "      pais                                           extracto  \\\n",
              "21495   GT  El titular de la Sedena, Luis Cresencio Sandov...   \n",
              "8806    CO  El trino 'racista' de Marbelle a Francia Márqu...   \n",
              "4784    US  La cantante Olivia Rodrigo ganó tres gramófono...   \n",
              "667     US  Lista parcial de ganadores de los premios Gram...   \n",
              "4386    PA  Los vehículos sumergibles han permitido a los ...   \n",
              "\n",
              "                                                 resumen  \\\n",
              "21495  Este 21 de marzo será la inauguración del Aero...   \n",
              "8806   El martes 29 de marzo, la cantante Maureen Bel...   \n",
              "4784   La cantante Olivia Rodrigo ganó tres gramófono...   \n",
              "667    Lista parcial de ganadores de los premios Gram...   \n",
              "4386   Por Helkin Guevara (Corresponsal digital)\\n\\n\\...   \n",
              "\n",
              "                                                  enlace        categoria  \n",
              "21495  https://www.tvazteca.com/aztecanoticias/notas/...         politica  \n",
              "8806   https://www.rcnradio.com/entretenimiento/aida-...  entretenimiento  \n",
              "4784   https://www.dallasnews.com/espanol/al-dia/espe...  entretenimiento  \n",
              "667    https://www.milfordmirror.com/entertainment/ar...  entretenimiento  \n",
              "4386   https://www.tvn-2.com/contenido_exclusivo/Cien...  entretenimiento  "
            ],
            "text/html": [
              "\n",
              "  <div id=\"df-6547020b-0981-4a3b-8ed7-562bb457c2c3\">\n",
              "    <div class=\"colab-df-container\">\n",
              "      <div>\n",
              "<style scoped>\n",
              "    .dataframe tbody tr th:only-of-type {\n",
              "        vertical-align: middle;\n",
              "    }\n",
              "\n",
              "    .dataframe tbody tr th {\n",
              "        vertical-align: top;\n",
              "    }\n",
              "\n",
              "    .dataframe thead th {\n",
              "        text-align: right;\n",
              "    }\n",
              "</style>\n",
              "<table border=\"1\" class=\"dataframe\">\n",
              "  <thead>\n",
              "    <tr style=\"text-align: right;\">\n",
              "      <th></th>\n",
              "      <th>fecha</th>\n",
              "      <th>titulo</th>\n",
              "      <th>pais</th>\n",
              "      <th>extracto</th>\n",
              "      <th>resumen</th>\n",
              "      <th>enlace</th>\n",
              "      <th>categoria</th>\n",
              "    </tr>\n",
              "  </thead>\n",
              "  <tbody>\n",
              "    <tr>\n",
              "      <th>21495</th>\n",
              "      <td>2022-03-18 23:24:12</td>\n",
              "      <td>¿Cómo será la inauguración del AIFA? Sedena ex...</td>\n",
              "      <td>GT</td>\n",
              "      <td>El titular de la Sedena, Luis Cresencio Sandov...</td>\n",
              "      <td>Este 21 de marzo será la inauguración del Aero...</td>\n",
              "      <td>https://www.tvazteca.com/aztecanoticias/notas/...</td>\n",
              "      <td>politica</td>\n",
              "    </tr>\n",
              "    <tr>\n",
              "      <th>8806</th>\n",
              "      <td>2022-03-31 21:59:17</td>\n",
              "      <td>Aida Victoria critica a Marbelle por comentari...</td>\n",
              "      <td>CO</td>\n",
              "      <td>El trino 'racista' de Marbelle a Francia Márqu...</td>\n",
              "      <td>El martes 29 de marzo, la cantante Maureen Bel...</td>\n",
              "      <td>https://www.rcnradio.com/entretenimiento/aida-...</td>\n",
              "      <td>entretenimiento</td>\n",
              "    </tr>\n",
              "    <tr>\n",
              "      <th>4784</th>\n",
              "      <td>2022-04-05 00:35:04</td>\n",
              "      <td>Video: Olivia Rodrigo tira su Grammy y lo rompe</td>\n",
              "      <td>US</td>\n",
              "      <td>La cantante Olivia Rodrigo ganó tres gramófono...</td>\n",
              "      <td>La cantante Olivia Rodrigo ganó tres gramófono...</td>\n",
              "      <td>https://www.dallasnews.com/espanol/al-dia/espe...</td>\n",
              "      <td>entretenimiento</td>\n",
              "    </tr>\n",
              "    <tr>\n",
              "      <th>667</th>\n",
              "      <td>2022-04-03 23:14:07</td>\n",
              "      <td>Lista de ganadores de los premios Grammy</td>\n",
              "      <td>US</td>\n",
              "      <td>Lista parcial de ganadores de los premios Gram...</td>\n",
              "      <td>Lista parcial de ganadores de los premios Gram...</td>\n",
              "      <td>https://www.milfordmirror.com/entertainment/ar...</td>\n",
              "      <td>entretenimiento</td>\n",
              "    </tr>\n",
              "    <tr>\n",
              "      <th>4386</th>\n",
              "      <td>2022-04-03 14:00:29</td>\n",
              "      <td>Ciencia en Panamá: Ciencia a bordo de mini sub...</td>\n",
              "      <td>PA</td>\n",
              "      <td>Los vehículos sumergibles han permitido a los ...</td>\n",
              "      <td>Por Helkin Guevara (Corresponsal digital)\\n\\n\\...</td>\n",
              "      <td>https://www.tvn-2.com/contenido_exclusivo/Cien...</td>\n",
              "      <td>entretenimiento</td>\n",
              "    </tr>\n",
              "  </tbody>\n",
              "</table>\n",
              "</div>\n",
              "      <button class=\"colab-df-convert\" onclick=\"convertToInteractive('df-6547020b-0981-4a3b-8ed7-562bb457c2c3')\"\n",
              "              title=\"Convert this dataframe to an interactive table.\"\n",
              "              style=\"display:none;\">\n",
              "        \n",
              "  <svg xmlns=\"http://www.w3.org/2000/svg\" height=\"24px\"viewBox=\"0 0 24 24\"\n",
              "       width=\"24px\">\n",
              "    <path d=\"M0 0h24v24H0V0z\" fill=\"none\"/>\n",
              "    <path d=\"M18.56 5.44l.94 2.06.94-2.06 2.06-.94-2.06-.94-.94-2.06-.94 2.06-2.06.94zm-11 1L8.5 8.5l.94-2.06 2.06-.94-2.06-.94L8.5 2.5l-.94 2.06-2.06.94zm10 10l.94 2.06.94-2.06 2.06-.94-2.06-.94-.94-2.06-.94 2.06-2.06.94z\"/><path d=\"M17.41 7.96l-1.37-1.37c-.4-.4-.92-.59-1.43-.59-.52 0-1.04.2-1.43.59L10.3 9.45l-7.72 7.72c-.78.78-.78 2.05 0 2.83L4 21.41c.39.39.9.59 1.41.59.51 0 1.02-.2 1.41-.59l7.78-7.78 2.81-2.81c.8-.78.8-2.07 0-2.86zM5.41 20L4 18.59l7.72-7.72 1.47 1.35L5.41 20z\"/>\n",
              "  </svg>\n",
              "      </button>\n",
              "      \n",
              "  <style>\n",
              "    .colab-df-container {\n",
              "      display:flex;\n",
              "      flex-wrap:wrap;\n",
              "      gap: 12px;\n",
              "    }\n",
              "\n",
              "    .colab-df-convert {\n",
              "      background-color: #E8F0FE;\n",
              "      border: none;\n",
              "      border-radius: 50%;\n",
              "      cursor: pointer;\n",
              "      display: none;\n",
              "      fill: #1967D2;\n",
              "      height: 32px;\n",
              "      padding: 0 0 0 0;\n",
              "      width: 32px;\n",
              "    }\n",
              "\n",
              "    .colab-df-convert:hover {\n",
              "      background-color: #E2EBFA;\n",
              "      box-shadow: 0px 1px 2px rgba(60, 64, 67, 0.3), 0px 1px 3px 1px rgba(60, 64, 67, 0.15);\n",
              "      fill: #174EA6;\n",
              "    }\n",
              "\n",
              "    [theme=dark] .colab-df-convert {\n",
              "      background-color: #3B4455;\n",
              "      fill: #D2E3FC;\n",
              "    }\n",
              "\n",
              "    [theme=dark] .colab-df-convert:hover {\n",
              "      background-color: #434B5C;\n",
              "      box-shadow: 0px 1px 3px 1px rgba(0, 0, 0, 0.15);\n",
              "      filter: drop-shadow(0px 1px 2px rgba(0, 0, 0, 0.3));\n",
              "      fill: #FFFFFF;\n",
              "    }\n",
              "  </style>\n",
              "\n",
              "      <script>\n",
              "        const buttonEl =\n",
              "          document.querySelector('#df-6547020b-0981-4a3b-8ed7-562bb457c2c3 button.colab-df-convert');\n",
              "        buttonEl.style.display =\n",
              "          google.colab.kernel.accessAllowed ? 'block' : 'none';\n",
              "\n",
              "        async function convertToInteractive(key) {\n",
              "          const element = document.querySelector('#df-6547020b-0981-4a3b-8ed7-562bb457c2c3');\n",
              "          const dataTable =\n",
              "            await google.colab.kernel.invokeFunction('convertToInteractive',\n",
              "                                                     [key], {});\n",
              "          if (!dataTable) return;\n",
              "\n",
              "          const docLinkHtml = 'Like what you see? Visit the ' +\n",
              "            '<a target=\"_blank\" href=https://colab.research.google.com/notebooks/data_table.ipynb>data table notebook</a>'\n",
              "            + ' to learn more about interactive tables.';\n",
              "          element.innerHTML = '';\n",
              "          dataTable['output_type'] = 'display_data';\n",
              "          await google.colab.output.renderOutput(dataTable, element);\n",
              "          const docLink = document.createElement('div');\n",
              "          docLink.innerHTML = docLinkHtml;\n",
              "          element.appendChild(docLink);\n",
              "        }\n",
              "      </script>\n",
              "    </div>\n",
              "  </div>\n",
              "  "
            ]
          },
          "metadata": {},
          "execution_count": 2
        }
      ]
    },
    {
      "cell_type": "code",
      "source": [
        "entrenamiento.shape"
      ],
      "metadata": {
        "colab": {
          "base_uri": "https://localhost:8080/"
        },
        "id": "CMhvGE-QDhEZ",
        "outputId": "47c11853-9c29-4042-9e09-10715ba933e9"
      },
      "execution_count": 3,
      "outputs": [
        {
          "output_type": "execute_result",
          "data": {
            "text/plain": [
              "(91844, 7)"
            ]
          },
          "metadata": {},
          "execution_count": 3
        }
      ]
    },
    {
      "cell_type": "code",
      "source": [
        "test.shape"
      ],
      "metadata": {
        "colab": {
          "base_uri": "https://localhost:8080/"
        },
        "id": "Qo7_MT9iLLHf",
        "outputId": "f98b9fc0-7530-4a0e-c148-f01c4f266177"
      },
      "execution_count": 4,
      "outputs": [
        {
          "output_type": "execute_result",
          "data": {
            "text/plain": [
              "(22961, 7)"
            ]
          },
          "metadata": {},
          "execution_count": 4
        }
      ]
    },
    {
      "cell_type": "code",
      "source": [
        "from sklearn.feature_extraction.text import CountVectorizer\n",
        "\n",
        "vector = CountVectorizer()"
      ],
      "metadata": {
        "id": "Z1XdBpIrLLLy"
      },
      "execution_count": 5,
      "outputs": []
    },
    {
      "cell_type": "code",
      "source": [
        "texto = [\n",
        "         \"tenga un buen día\",\n",
        "         \"tenga un excelente día\",\n",
        "         \"tenga un pésimo día luna sol carro casa familia\"\n",
        "]"
      ],
      "metadata": {
        "id": "oUAuLPrJLLRm"
      },
      "execution_count": 6,
      "outputs": []
    },
    {
      "cell_type": "code",
      "source": [
        "vector.fit(texto)"
      ],
      "metadata": {
        "colab": {
          "base_uri": "https://localhost:8080/"
        },
        "id": "A2Q1zXedLLUq",
        "outputId": "c154a081-9de2-4cf4-f9a4-dc8032787443"
      },
      "execution_count": 7,
      "outputs": [
        {
          "output_type": "execute_result",
          "data": {
            "text/plain": [
              "CountVectorizer()"
            ]
          },
          "metadata": {},
          "execution_count": 7
        }
      ]
    },
    {
      "cell_type": "code",
      "source": [
        "vector.vocabulary_"
      ],
      "metadata": {
        "colab": {
          "base_uri": "https://localhost:8080/"
        },
        "id": "VydvXpIPVVxF",
        "outputId": "0f395e00-6bd2-4ca3-f43d-f23445d8e671"
      },
      "execution_count": 8,
      "outputs": [
        {
          "output_type": "execute_result",
          "data": {
            "text/plain": [
              "{'buen': 0,\n",
              " 'carro': 1,\n",
              " 'casa': 2,\n",
              " 'día': 3,\n",
              " 'excelente': 4,\n",
              " 'familia': 5,\n",
              " 'luna': 6,\n",
              " 'pésimo': 7,\n",
              " 'sol': 8,\n",
              " 'tenga': 9,\n",
              " 'un': 10}"
            ]
          },
          "metadata": {},
          "execution_count": 8
        }
      ]
    },
    {
      "cell_type": "code",
      "source": [
        "vector_bueno = vector.transform(['buen'])"
      ],
      "metadata": {
        "id": "moY2ePtdVVza"
      },
      "execution_count": 9,
      "outputs": []
    },
    {
      "cell_type": "code",
      "source": [
        "vector_luna = vector.transform(['luna'])"
      ],
      "metadata": {
        "id": "_KY1-J1AWpd1"
      },
      "execution_count": 10,
      "outputs": []
    },
    {
      "cell_type": "code",
      "source": [
        "print(vector_bueno)"
      ],
      "metadata": {
        "colab": {
          "base_uri": "https://localhost:8080/"
        },
        "id": "NMlU5xZuVV1s",
        "outputId": "1b2dd657-43a8-490f-b4ab-00dc4a20a016"
      },
      "execution_count": 11,
      "outputs": [
        {
          "output_type": "stream",
          "name": "stdout",
          "text": [
            "  (0, 0)\t1\n"
          ]
        }
      ]
    },
    {
      "cell_type": "code",
      "source": [
        "vector_bueno"
      ],
      "metadata": {
        "colab": {
          "base_uri": "https://localhost:8080/"
        },
        "id": "UqyBLfRvVvHU",
        "outputId": "946c7d21-dad2-412f-9e0e-d10eec35d7b0"
      },
      "execution_count": 12,
      "outputs": [
        {
          "output_type": "execute_result",
          "data": {
            "text/plain": [
              "<1x11 sparse matrix of type '<class 'numpy.int64'>'\n",
              "\twith 1 stored elements in Compressed Sparse Row format>"
            ]
          },
          "metadata": {},
          "execution_count": 12
        }
      ]
    },
    {
      "cell_type": "code",
      "source": [
        "print(vector_bueno.toarray())"
      ],
      "metadata": {
        "colab": {
          "base_uri": "https://localhost:8080/"
        },
        "id": "WjPspUzjVvMa",
        "outputId": "2ad1b3ec-4212-44bd-abd1-fbe475aa95f2"
      },
      "execution_count": 13,
      "outputs": [
        {
          "output_type": "stream",
          "name": "stdout",
          "text": [
            "[[1 0 0 0 0 0 0 0 0 0 0]]\n"
          ]
        }
      ]
    },
    {
      "cell_type": "code",
      "source": [
        "print(vector_luna.toarray())"
      ],
      "metadata": {
        "colab": {
          "base_uri": "https://localhost:8080/"
        },
        "id": "l19iiqX2WJZh",
        "outputId": "dd0fcf8b-a49c-49c2-cf74-be081125aa1d"
      },
      "execution_count": 14,
      "outputs": [
        {
          "output_type": "stream",
          "name": "stdout",
          "text": [
            "[[0 0 0 0 0 0 1 0 0 0 0]]\n"
          ]
        }
      ]
    },
    {
      "cell_type": "markdown",
      "source": [
        "## 2. Cargando un modelo Word2Vec"
      ],
      "metadata": {
        "id": "fDf1Yk2jDfzd"
      }
    },
    {
      "cell_type": "code",
      "source": [
        "!unzip '/content/drive/MyDrive/word2vec/keyed_vectors.zip'"
      ],
      "metadata": {
        "colab": {
          "base_uri": "https://localhost:8080/"
        },
        "id": "seTqThP_MfJG",
        "outputId": "e20f38b3-5ad7-4539-f41d-0109e11985db"
      },
      "execution_count": 15,
      "outputs": [
        {
          "output_type": "stream",
          "name": "stdout",
          "text": [
            "Archive:  /content/drive/MyDrive/word2vec/keyed_vectors.zip\n",
            "  inflating: complete.kv             \n",
            "  inflating: complete.kv.vectors.npy  \n"
          ]
        }
      ]
    },
    {
      "cell_type": "code",
      "source": [
        "from gensim.models import KeyedVectors\n",
        "\n",
        "modelo = KeyedVectors.load('/content/complete.kv')"
      ],
      "metadata": {
        "id": "wtNY1FRTMfGX"
      },
      "execution_count": 16,
      "outputs": []
    },
    {
      "cell_type": "markdown",
      "source": [
        "## 3. Entendiendo Word2Vec"
      ],
      "metadata": {
        "id": "5JYhf0V2DzKB"
      }
    },
    {
      "cell_type": "code",
      "source": [
        ""
      ],
      "metadata": {
        "id": "4rtknZRf82DL"
      },
      "execution_count": null,
      "outputs": []
    },
    {
      "cell_type": "code",
      "source": [
        ""
      ],
      "metadata": {
        "id": "JaDlXZhA82K-"
      },
      "execution_count": null,
      "outputs": []
    },
    {
      "cell_type": "code",
      "source": [
        ""
      ],
      "metadata": {
        "id": "l4M_38Ud82tC"
      },
      "execution_count": null,
      "outputs": []
    },
    {
      "cell_type": "markdown",
      "source": [
        "## 4. Combinando Vectores"
      ],
      "metadata": {
        "id": "QmzHCHuJEQmd"
      }
    },
    {
      "cell_type": "code",
      "source": [
        ""
      ],
      "metadata": {
        "id": "OQwDFIkg7oBW"
      },
      "execution_count": null,
      "outputs": []
    },
    {
      "cell_type": "code",
      "source": [
        ""
      ],
      "metadata": {
        "id": "uSmzs8CV7oR_"
      },
      "execution_count": null,
      "outputs": []
    },
    {
      "cell_type": "code",
      "source": [
        ""
      ],
      "metadata": {
        "id": "yscXDI747oYl"
      },
      "execution_count": null,
      "outputs": []
    },
    {
      "cell_type": "markdown",
      "source": [
        "## 5. Clasificando textos"
      ],
      "metadata": {
        "id": "58RKUvJtEaO8"
      }
    },
    {
      "cell_type": "code",
      "source": [
        ""
      ],
      "metadata": {
        "id": "04Cp9wBz7Yv0"
      },
      "execution_count": null,
      "outputs": []
    },
    {
      "cell_type": "code",
      "source": [
        ""
      ],
      "metadata": {
        "id": "9eW4QHDa7Y4a"
      },
      "execution_count": null,
      "outputs": []
    },
    {
      "cell_type": "code",
      "source": [
        ""
      ],
      "metadata": {
        "id": "mrKlyKY57Y_v"
      },
      "execution_count": null,
      "outputs": []
    }
  ]
}